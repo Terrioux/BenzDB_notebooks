{
 "cells": [
  {
   "cell_type": "markdown",
   "id": "cbb5c889",
   "metadata": {},
   "source": [
    "# BenzDB tools"
   ]
  },
  {
   "cell_type": "markdown",
   "id": "a8f04d68",
   "metadata": {},
   "source": [
    "## Source code"
   ]
  },
  {
   "cell_type": "markdown",
   "id": "32e20f32",
   "metadata": {},
   "source": [
    "### Module imports"
   ]
  },
  {
   "cell_type": "code",
   "execution_count": 1,
   "id": "d36ac1f9",
   "metadata": {},
   "outputs": [],
   "source": [
    "import ipywidgets as w\n",
    "import requests\n",
    "import json\n",
    "import base64 \n",
    "import io\n",
    "from PIL import Image\n",
    "import IPython as ip\n",
    "import jupyter_jsmol as Jsmol\n",
    "import pandas as pd\n",
    "import matplotlib.pyplot as plt"
   ]
  },
  {
   "cell_type": "markdown",
   "id": "6b3eef6d",
   "metadata": {},
   "source": [
    "### Definition of criterion classes"
   ]
  },
  {
   "cell_type": "markdown",
   "id": "700f00e2",
   "metadata": {},
   "source": [
    "#### Definition of the main criterion class"
   ]
  },
  {
   "cell_type": "code",
   "execution_count": 2,
   "id": "780e27d9",
   "metadata": {},
   "outputs": [],
   "source": [
    "class Criterion:\n",
    "    \"\"\" This class allows for representing criterions \"\"\"\n",
    "    \n",
    "    def __init__ (self, key: str, description: str):\n",
    "        \"\"\" initializes the criterion \"\"\"\n",
    "        self.__key = key\n",
    "        self.__description  = description     \n",
    "    \n",
    "    \n",
    "    def display (self):\n",
    "        \"\"\" displays the widget corresponding to the criterion \"\"\"\n",
    "        pass\n",
    "    \n",
    "    \n",
    "    def get_criterion (self) -> str:\n",
    "        \"\"\" returns the JSON string corresponding to the criterion, an empty string if the criterion is not set \"\"\"\n",
    "        pass\n",
    "    \n",
    "    \n",
    "    def get_description (self) -> str:\n",
    "        \"\"\" returns the description \"\"\"\n",
    "        return self.__description\n",
    "    \n",
    "    def get_key (self) -> str:\n",
    "        \"\"\" returns the key related to the criterion \"\"\"\n",
    "        return self.__key"
   ]
  },
  {
   "cell_type": "markdown",
   "id": "ac80c7fc",
   "metadata": {},
   "source": [
    "#### Definition of criterion child classes"
   ]
  },
  {
   "cell_type": "code",
   "execution_count": 3,
   "id": "c6431fa8",
   "metadata": {},
   "outputs": [],
   "source": [
    "class Int_Criterion (Criterion):\n",
    "    \"\"\" This class allows for representing criterions based on int value \"\"\"\n",
    " \n",
    "    def __init__ (self, key: str, description: str, min_value: int, max_value: int):\n",
    "        \"\"\" initializes the criterion \"\"\"\n",
    "        super().__init__(key, description)\n",
    "        \n",
    "        self.__element =  w.BoundedIntText(value=min_value, min=min_value, max=max_value, layout={\"width\": \"auto\"})\n",
    "        self.__condition = w.Select(description=self.get_description(), options=[\"not set\",\"=\",\"<>\",\"<=\",\"<\",\">\",\">=\"], value='not set', rows=1, layout={\"width\": \"auto\"})\n",
    "                \n",
    "        box = w.HBox([self.__condition, self.__element])\n",
    "        display(box)\n",
    "        \n",
    "    \n",
    "    def get_criterion (self) -> str:\n",
    "        \"\"\" returns the JSON string corresponding to the criterion, an empty string if the criterion is not set \"\"\"\n",
    "        if self.__condition.value == \"not set\":\n",
    "            return \"\"\n",
    "        else:\n",
    "            return '\"' + self.get_key() + '\": \"' + self.__condition.value + \" \" + str(self.__element.value) + '\"'"
   ]
  },
  {
   "cell_type": "code",
   "execution_count": 4,
   "id": "a0cc879d",
   "metadata": {},
   "outputs": [],
   "source": [
    "class Float_Criterion (Criterion):\n",
    "    \"\"\" This class allows for representing criterions based on float value \"\"\"\n",
    " \n",
    "    def __init__ (self, key: str, description: str, min_value: float, max_value: float):\n",
    "        \"\"\" initializes the criterion \"\"\"\n",
    "        super().__init__(key, description)\n",
    "        \n",
    "        self.__element =  w.BoundedFloatText(value=min_value, min=min_value, max=max_value, layout={\"width\": \"auto\"})\n",
    "        self.__condition = w.Select(description=self.get_description(), options=[\"not set\",\"=\",\"<>\",\"<=\",\"<\",\">\",\">=\"], value='not set', rows=1, layout={\"width\": \"auto\"})\n",
    "                \n",
    "        box = w.HBox([self.__condition, self.__element])\n",
    "        display(box)\n",
    "        \n",
    "    \n",
    "    def get_criterion (self) -> str:\n",
    "        \"\"\" returns the JSON string corresponding to the criterion, an empty string if the criterion is not set \"\"\"\n",
    "        if self.__condition.value == \"not set\":\n",
    "            return \"\"\n",
    "        else:\n",
    "            return '\"' + self.get_key() + '\": \"' + self.__condition.value + \" \" + str(self.__element.value) + '\"'"
   ]
  },
  {
   "cell_type": "code",
   "execution_count": 5,
   "id": "c3ed9bf5",
   "metadata": {},
   "outputs": [],
   "source": [
    "class String_Criterion (Criterion):\n",
    "    \"\"\" This class allows for representing criterions based on string value \"\"\"\n",
    " \n",
    "    def __init__ (self, key: str, description: str):\n",
    "        \"\"\" initializes the criterion \"\"\"\n",
    "        super().__init__(key, description)\n",
    "        \n",
    "        self.__element =  w.Text(layout={\"width\": \"auto\"})\n",
    "        self.__condition = w.Select(description=self.get_description(), options=[\"not set\",\"=\",\"<>\"], value='not set', rows=1, layout={\"width\": \"auto\"})\n",
    "                \n",
    "        box = w.HBox([self.__condition, self.__element])\n",
    "        display(box)\n",
    "        \n",
    "    \n",
    "    def get_criterion (self) -> str:\n",
    "        \"\"\" returns the JSON string corresponding to the criterion, an empty string if the criterion is not set \"\"\"\n",
    "        if self.__condition.value == \"not set\":\n",
    "            return \"\"\n",
    "        else:\n",
    "            return '\"' + self.get_key() + '\": \"' + self.__condition.value + \" \" + str(self.__element.value) + '\"'"
   ]
  },
  {
   "cell_type": "code",
   "execution_count": 6,
   "id": "89500dc2",
   "metadata": {},
   "outputs": [],
   "source": [
    "class Query_Criterion (Criterion):\n",
    "    \"\"\" This class allows for representing the desired query \"\"\"\n",
    " \n",
    "    def __init__ (self, key: str, description: str):\n",
    "        \"\"\" initializes the criterion \"\"\"\n",
    "        super().__init__(key, description)\n",
    "        \n",
    "        self.__element =  w.Select(description=self.get_description(), options=[\"benzenoids\",\"ir\",\"ims2d1a\",\"nics\",\"clar_covers\",\"properties\",\"irregularities\"], value='benzenoids', rows=1, layout={\"width\": \"auto\"})\n",
    "                \n",
    "        box = w.HBox([self.__element])\n",
    "        display(box)\n",
    "        \n",
    "    \n",
    "    def get_criterion (self) -> str:\n",
    "        \"\"\" returns the JSON string corresponding to the criterion, an empty string if the criterion is not set \"\"\"\n",
    "        return str(self.__element.value)"
   ]
  },
  {
   "cell_type": "code",
   "execution_count": 7,
   "id": "7bf68750",
   "metadata": {},
   "outputs": [],
   "source": [
    "class View_Criterion (Criterion):\n",
    "    \"\"\" This class allows for representing the desired view \"\"\"\n",
    " \n",
    "    def __init__ (self, key: str, description: str):\n",
    "        \"\"\" initializes the criterion \"\"\"\n",
    "        super().__init__(key, description)\n",
    "        \n",
    "        self.__element =  w.Select(description=self.get_description(), options=[\"global\",\"one by one\"], value='global', rows=1, layout={\"width\": \"auto\"})\n",
    "                \n",
    "        box = w.HBox([self.__element])\n",
    "        display(box)\n",
    "        \n",
    "    \n",
    "    def get_criterion (self) -> str:\n",
    "        \"\"\" returns the JSON string corresponding to the criterion, an empty string if the criterion is not set \"\"\"\n",
    "        return str(self.__element.value)"
   ]
  },
  {
   "cell_type": "markdown",
   "id": "e605c35e",
   "metadata": {},
   "source": [
    "### Definition of the display classes"
   ]
  },
  {
   "cell_type": "code",
   "execution_count": 8,
   "id": "9f663d4b",
   "metadata": {},
   "outputs": [],
   "source": [
    "class Display:\n",
    "    \"\"\" This class allows for displaying benzenoid information \"\"\"\n",
    "    \n",
    "    def __init__ (self, info: dict):\n",
    "        \"\"\" initializes the display tool \"\"\"\n",
    "        self.__information = info\n",
    "        self.__data = {}\n",
    "        self.add_data (\"Benzenoid id\", self.get_information(\"idBenzenoid\"))\n",
    "        self.add_data (\"InChI\", self.get_information(\"inchi\"))\n",
    "        self.add_data (\"Label\", self.get_information(\"label\"))\n",
    "        self.add_data (\"#hexagons\", self.get_information(\"nbHexagons\"))\n",
    "        self.add_data (\"#carbons\", self.get_information(\"nbCarbons\"))\n",
    "        self.add_data (\"#hydrogens\", self.get_information(\"nbHydrogens\"))\n",
    "        self.add_data (\"Weight\", self.get_information(\"weight\"))\n",
    "        self.add_data (\"Irregularity\", self.get_information(\"irregularity\"))\n",
    "    \n",
    "    \n",
    "    def add_data (self, label, value) -> None:\n",
    "        \"\"\" adds a label to display with its corresponding value \"\"\"\n",
    "        self.__data [label] = [value]\n",
    "        \n",
    "    \n",
    "    def display (self) -> None:\n",
    "        \"\"\" displays the information \"\"\"           \n",
    "        self.__df = pd.DataFrame(self.__data)\n",
    "        self.__df.index = [\"\"]\n",
    "        \n",
    "        ip.display.display(self.__df.transpose())\n",
    "        self.display_molecule()\n",
    "        \n",
    "    \n",
    "    def display_molecule (self) -> None:\n",
    "        \"\"\" displays the molecule thanks to Jsmol \"\"\"\n",
    "        view = Jsmol.JsmolView.from_str(str(self.get_information(\"nbCarbons\")+self.get_information(\"nbHydrogens\"))+\"\\nComment\\n\"+self.get_information(\"geometry\"))\n",
    "        ip.display.display(view)\n",
    "        \n",
    "    \n",
    "    def display_image (self, str64: str) -> None:\n",
    "        \"\"\" displays the base-64 image defined by str64 \"\"\"\n",
    "        img = Image.open(io.BytesIO(base64.b64decode(str64)))\n",
    "        ip.display.display(img)\n",
    "        \n",
    "    \n",
    "    def get_information (self, key) -> dict:\n",
    "        \"\"\" returns the information \"\"\"\n",
    "        return self.__information[key]"
   ]
  },
  {
   "cell_type": "code",
   "execution_count": 9,
   "id": "2497974e",
   "metadata": {},
   "outputs": [],
   "source": [
    "class Display_IR (Display):\n",
    "    \"\"\" This class allows for displaying benzenoid information from IR query \"\"\"\n",
    "\n",
    "    def __init__ (self, info: dict):\n",
    "        \"\"\" initializes the display tool \"\"\"\n",
    "        super().__init__(info)\n",
    "        self.add_data (\"Final energy\", self.get_information(\"finalEnergy\"))\n",
    "        \n",
    "    \n",
    "    def display (self) -> None:\n",
    "        \"\"\" displays the information \"\"\"\n",
    "        super().display()\n",
    "               \n",
    "        x = [float(v) for v in self.get_information(\"frequencies\").split(\" \")]\n",
    "        y = [float(v) for v in self.get_information(\"intensities\").split(\" \")]\n",
    "        \n",
    "        plt.cla()\n",
    "        plt.stem(x, y, linefmt='-', markerfmt=\"\")\n",
    "        plt.xlabel('frequencies ($cm^{-1}$)')\n",
    "        plt.ylabel('intensities')\n",
    "        plt.show()"
   ]
  },
  {
   "cell_type": "code",
   "execution_count": 10,
   "id": "fa9e619a",
   "metadata": {},
   "outputs": [],
   "source": [
    "class Display_IMS2D1A (Display):\n",
    "    \"\"\" This class allows for displaying benzenoid information from IMS2D1A query \"\"\"\n",
    "\n",
    "    def __init__ (self, info: dict):\n",
    "        \"\"\" initializes the display tool \"\"\"\n",
    "        super().__init__(info)\n",
    "        self.add_data (\"Type\", self.get_information(\"type\"))\n",
    "\n",
    "    def display (self) -> None:\n",
    "        \"\"\" displays the information \"\"\"\n",
    "        super().display()\n",
    "        self.display_image(self.get_information(\"picture\"))"
   ]
  },
  {
   "cell_type": "code",
   "execution_count": 11,
   "id": "8a34c6dc",
   "metadata": {},
   "outputs": [],
   "source": [
    "class Display_NICS (Display):\n",
    "    \"\"\" This class allows for displaying benzenoid information from NICS query \"\"\"\n",
    "    def __init__ (self, info: dict):\n",
    "        \"\"\" initializes the display tool \"\"\"\n",
    "        super().__init__(info)\n",
    "        self.add_data (\"NICS values\", self.get_information(\"nics\"))"
   ]
  },
  {
   "cell_type": "code",
   "execution_count": 12,
   "id": "bbaf5100",
   "metadata": {},
   "outputs": [],
   "source": [
    "class Display_Clar_Covers (Display):\n",
    "    \"\"\" This class allows for displaying benzenoid information from Clar Cover query \"\"\"\n",
    "    \n",
    "    def display (self) -> None:\n",
    "        \"\"\" displays the information \"\"\"\n",
    "        super().display()\n",
    "        self.display_image(self.get_information(\"clarCover\"))"
   ]
  },
  {
   "cell_type": "code",
   "execution_count": 13,
   "id": "3e4a4ea2",
   "metadata": {},
   "outputs": [],
   "source": [
    "class Display_Properties (Display):\n",
    "    \"\"\" This class allows for displaying benzenoid information from properties query \"\"\"\n",
    "\n",
    "    def __init__ (self, info: dict):\n",
    "        \"\"\" initializes the display tool \"\"\"\n",
    "        super().__init__(info)\n",
    "        yesno = [\"no\",\"yes\"]\n",
    "        self.add_data (\"Catacondensed\", yesno[self.get_information(\"catacondensed\")])\n",
    "        self.add_data (\"Coronoid\", yesno[self.get_information(\"coronoid\")])\n",
    "        self.add_data (\"Coronenoid\", yesno[self.get_information(\"coronenoid\")])\n",
    "        self.add_data (\"Symmetry\", self.get_information(\"symmetry\"))\n",
    "        self.add_data (\"#Kekulé structures\", self.get_information(\"kekule\"))\n",
    "        self.add_data (\"HOMO\", self.get_information(\"homo\"))\n",
    "        self.add_data (\"LUMO\", self.get_information(\"lumo\"))\n",
    "        self.add_data (\"Dipole moment\", self.get_information(\"moment\"))"
   ]
  },
  {
   "cell_type": "code",
   "execution_count": 14,
   "id": "11129119",
   "metadata": {},
   "outputs": [],
   "source": [
    "class Display_Irregularities (Display):\n",
    "    \"\"\" This class allows for displaying benzenoid information from irregularities query \"\"\"\n",
    "    \n",
    "    def __init__ (self, info: dict):\n",
    "        \"\"\" initializes the display tool \"\"\"\n",
    "        super().__init__(info)\n",
    "        self.add_data (\"# solo\", self.get_information(\"solo\"))\n",
    "        self.add_data (\"# duo\", self.get_information(\"duo\"))\n",
    "        self.add_data (\"# trio\", self.get_information(\"trio\"))\n",
    "        self.add_data (\"# quartet\", self.get_information(\"quartet\"))        "
   ]
  },
  {
   "cell_type": "markdown",
   "id": "1f5496b1",
   "metadata": {},
   "source": [
    "### Definition of the table classes"
   ]
  },
  {
   "cell_type": "code",
   "execution_count": 15,
   "id": "b1a8a707",
   "metadata": {},
   "outputs": [],
   "source": [
    "class Table:\n",
    "    \"\"\" This class allows for displaying a table containing benzenoid information \"\"\"\n",
    "    \n",
    "    def __init__ (self):\n",
    "        \"\"\" initializes the display tool \"\"\"\n",
    "        self.__data = {}\n",
    "    \n",
    "    \n",
    "    def add_data (self, label, value) -> None:\n",
    "        \"\"\" adds a label to display with its corresponding value \"\"\"\n",
    "        if label not in self.__data:\n",
    "            self.__data[label] = []\n",
    "        self.__data [label] += [value]\n",
    "        \n",
    "    \n",
    "    def add_row (self, info: dict) -> None:\n",
    "        \"\"\" adds a row based on the given information \"\"\"           \n",
    "        self.add_data (\"Benzenoid id\", info[\"idBenzenoid\"])\n",
    "        self.add_data (\"InChI\", info[\"inchi\"])\n",
    "        self.add_data (\"Label\", info[\"label\"])\n",
    "        self.add_data (\"#hexagons\", info[\"nbHexagons\"])\n",
    "        self.add_data (\"#carbons\", info[\"nbCarbons\"])\n",
    "        self.add_data (\"#hydrogens\", info[\"nbHydrogens\"])\n",
    "        self.add_data (\"Weight\", info[\"weight\"])\n",
    "        self.add_data (\"Irregularity\", info[\"irregularity\"])\n",
    "        \n",
    "        \n",
    "    def print (self):\n",
    "        \"\"\" prints the table \"\"\"\n",
    "        self.__df = pd.DataFrame(self.__data)\n",
    "        ip.display.display(self.__df)\n"
   ]
  },
  {
   "cell_type": "code",
   "execution_count": 16,
   "id": "8d882d91",
   "metadata": {},
   "outputs": [],
   "source": [
    "class Table_Properties (Table):\n",
    "    \"\"\" This class allows for displaying a table containing benzenoid information from properties query \"\"\"\n",
    "\n",
    "    def add_row (self, info: dict) -> None:\n",
    "        \"\"\" adds a row based on the given information \"\"\"\n",
    "        super().add_row (info)\n",
    "        yesno = [\"no\",\"yes\"]\n",
    "        self.add_data (\"Catacondensed\", yesno[info[\"catacondensed\"]])\n",
    "        self.add_data (\"Coronoid\", yesno[info[\"coronoid\"]])\n",
    "        self.add_data (\"Coronenoid\", yesno[info[\"coronenoid\"]])\n",
    "        self.add_data (\"Symmetry\", info[\"symmetry\"])\n",
    "        self.add_data (\"#Kekulé structures\", info[\"kekule\"])\n",
    "        self.add_data (\"HOMO\", info[\"homo\"])\n",
    "        self.add_data (\"LUMO\", info[\"lumo\"])\n",
    "        self.add_data (\"Dipole moment\", info[\"moment\"])"
   ]
  },
  {
   "cell_type": "code",
   "execution_count": 17,
   "id": "eb5f0030",
   "metadata": {},
   "outputs": [],
   "source": [
    "class Table_Irregularities (Table):\n",
    "    \"\"\" This class allows for displaying a table containing benzenoid information from irregularities query \"\"\"\n",
    "    \n",
    "    def add_row (self, info: dict) -> None:\n",
    "        \"\"\" adds a row based on the given information \"\"\"\n",
    "        super().add_row (info)\n",
    "        self.add_data (\"# solo\", info[\"solo\"])\n",
    "        self.add_data (\"# duo\", info[\"duo\"])\n",
    "        self.add_data (\"# trio\", info[\"trio\"])\n",
    "        self.add_data (\"# quartet\", info[\"quartet\"])\n",
    "        "
   ]
  },
  {
   "cell_type": "markdown",
   "id": "50be4068",
   "metadata": {},
   "source": [
    "### Definition of the form class"
   ]
  },
  {
   "cell_type": "code",
   "execution_count": 18,
   "id": "89b6fdec",
   "metadata": {},
   "outputs": [],
   "source": [
    "def process (form):    \n",
    "    demand_type = form.get_demand_type()\n",
    "\n",
    "    if demand_type == \"data\":\n",
    "        data = form.get_data()\n",
    "        query = form.get_query()\n",
    "        view = form.get_view()\n",
    "        \n",
    "        if view == \"global\":\n",
    "            if query == \"properties\":\n",
    "                d = Table_Properties()\n",
    "            elif query == \"irregularities\":\n",
    "                d = Table_Irregularities()\n",
    "            else:\n",
    "                d = Table()\n",
    "            for molecule in data:\n",
    "                d.add_row (molecule)\n",
    "            d.print()\n",
    "        elif view == \"one by one\":\n",
    "            for molecule in data:\n",
    "                if query == \"benzenoids\":\n",
    "                    d = Display(molecule)\n",
    "                elif query == \"ir\":\n",
    "                    d = Display_IR(molecule)\n",
    "                elif query == \"ims2d1a\":\n",
    "                    d = Display_IMS2D1A(molecule)\n",
    "                elif query == \"nics\":\n",
    "                    d = Display_NICS(molecule)\n",
    "                elif query == \"clar_covers\":\n",
    "                    d = Display_Clar_Covers(molecule)\n",
    "                elif query == \"properties\":\n",
    "                    d = Display_Properties(molecule)\n",
    "                elif query == \"irregularities\":\n",
    "                    d = Display_Irregularities(molecule)\n",
    "                d.display()\n",
    "\n",
    "    elif demand_type == \"count\":\n",
    "        print (\"Number of molecules:\",form.get_data())\n",
    "\n",
    "    elif demand_type == \"json\":\n",
    "        print (\"JSON query:\")\n",
    "        print (form.get_json_string())\n",
    "        \n",
    "    elif demand_type == \"result\":\n",
    "        print (\"JSON result:\")\n",
    "        print (form.get_data())"
   ]
  },
  {
   "cell_type": "code",
   "execution_count": 19,
   "id": "e0c4321d",
   "metadata": {},
   "outputs": [],
   "source": [
    "class Form:\n",
    "    \n",
    "    def __init__ (self):\n",
    "        \"\"\" initialise the form \"\"\"\n",
    "        self.__query = None         # the query\n",
    "        self.__demand_type = None   # the type of demand\n",
    "        self.__json_string = None   # the query as a JSON string\n",
    "        self.__data = None          # the data related to the query (if the query succeeds)\n",
    "        \n",
    "        self.create_form()\n",
    "        \n",
    "        \n",
    "    def create_form(self) -> None:\n",
    "        \"\"\" creates the form allowing for choosing the values of desired criteria \"\"\"\n",
    "        self.__criteria = []\n",
    "\n",
    "        # criteria about basic information\n",
    "        self.__criteria.append (Int_Criterion(key=\"nbHexagons\", description=\"# hexagons\", min_value=1, max_value=9))\n",
    "        self.__criteria.append (Int_Criterion(key=\"nbCarbons\", description=\"# carbons\", min_value=6, max_value=38))\n",
    "        self.__criteria.append (Int_Criterion(key=\"nbHydrogens\", description=\"# hydrogens\", min_value=6, max_value=22))\n",
    "        self.__criteria.append (Int_Criterion(key=\"idBenzenoid\", description=\"Benzenoid id\", min_value=0, max_value=8391))\n",
    "        self.__criteria.append (Int_Criterion(key=\"solo\", description=\"# solo\", min_value=0, max_value=14))\n",
    "        self.__criteria.append (Int_Criterion(key=\"duo\", description=\"# duo\", min_value=0, max_value=14))\n",
    "        self.__criteria.append (Int_Criterion(key=\"trio\", description=\"# trio\", min_value=0, max_value=18))\n",
    "        self.__criteria.append (Int_Criterion(key=\"quartet\", description=\"# quartet\", min_value=0, max_value=20))\n",
    "        self.__criteria.append (Int_Criterion(key=\"kekule\", description=\"# Kekulé structures\", min_value=0, max_value=110))\n",
    "        self.__criteria.append (Int_Criterion(key=\"catacondensed\", description=\"Is catacondensed\", min_value=0, max_value=1))\n",
    "        self.__criteria.append (Int_Criterion(key=\"coronenoid\", description=\"Is coronenoid\", min_value=0, max_value=1))\n",
    "        self.__criteria.append (Int_Criterion(key=\"coronoid\", description=\"Is coronoid\", min_value=0, max_value=1))\n",
    "        self.__criteria.append (Float_Criterion(key=\"irregularity\", description=\"Irregularity\", min_value=0, max_value=1))\n",
    "        self.__criteria.append (Float_Criterion(key=\"frequency\", description=\"Frequency\", min_value=0, max_value=3466))\n",
    "        self.__criteria.append (Float_Criterion(key=\"intensity\", description=\"Intensity\", min_value=0, max_value=2742))\n",
    "        self.__criteria.append (String_Criterion(key=\"inchi\", description=\"InChI\"))\n",
    "        self.__criteria.append (String_Criterion(key=\"label\", description=\"BenzAI label\"))\n",
    "        self.__criteria.append (String_Criterion(key=\"symmetry\", description=\"Symmetry\"))       \n",
    "\n",
    "        # query\n",
    "        self.__criteria.append (Query_Criterion(key=\"query\", description=\"query\"))\n",
    "        \n",
    "        # type of view\n",
    "        self.__criteria.append (View_Criterion(key=\"view\", description=\"View type\"))\n",
    "\n",
    "        # validation buttons\n",
    "        count_btn = w.Button (description=\"Count\")\n",
    "        count_btn.on_click (self.perform_query)\n",
    "\n",
    "        getdata_btn = w.Button (description=\"Get Data\")\n",
    "        getdata_btn.on_click (self.perform_query)\n",
    "\n",
    "        getquery_btn = w.Button (description=\"Get JSON Query\")\n",
    "        getquery_btn.on_click (self.perform_query)\n",
    "        \n",
    "        getresult_btn = w.Button (description=\"Get JSON Result\")\n",
    "        getresult_btn.on_click (self.perform_query)\n",
    "        \n",
    "        box = w.HBox([count_btn, getdata_btn, getquery_btn, getresult_btn])\n",
    "        display(box)\n",
    "    \n",
    "    \n",
    "    def perform_query (self, btn) -> None:\n",
    "        \"\"\" performs the query and sets the corresponding attributes \"\"\" \n",
    "        # we identify the type of demand\n",
    "        if btn.description == \"Count\":\n",
    "            self.__demand_type = \"count\"\n",
    "        elif btn.description == \"Get Data\":\n",
    "            self.__demand_type = \"data\"\n",
    "        elif btn.description == \"Get JSON Query\":\n",
    "            self.__demand_type = \"json\"\n",
    "        elif btn.description == \"Get JSON Result\":\n",
    "            self.__demand_type = \"result\"\n",
    "        else:\n",
    "            self.__demand_type = \"unknown\"\n",
    "\n",
    "        # we build the JSON string\n",
    "        self.__json_string = \"{\\n\"\n",
    "        for c in self.__criteria:\n",
    "            if isinstance(c,Query_Criterion):\n",
    "                self.__query = c.get_criterion()\n",
    "            elif isinstance(c,View_Criterion):\n",
    "                self.__view = c.get_criterion()\n",
    "            else:\n",
    "                s = c.get_criterion()\n",
    "                if len(s) > 0:\n",
    "                    if len(self.__json_string) > 3:\n",
    "                        self.__json_string += \",\\n\"\n",
    "                    self.__json_string += \"\\t\" + s\n",
    "        self.__json_string += \"\\n}\"\n",
    "\n",
    "        if self.__demand_type in [\"data\", \"result\"]:\n",
    "            response = requests.post(\"https://benzenoids.lis-lab.fr/find_\"+self.__query, json= json.loads(self.__json_string))\n",
    "        elif self.__demand_type == \"count\":\n",
    "            response = requests.post(\"https://benzenoids.lis-lab.fr/count_\"+self.__query, json= json.loads(self.__json_string))\n",
    "        \n",
    "        if self.__demand_type in [\"data\", \"count\", \"result\"]:\n",
    "            if response.status_code == 200:\n",
    "                self.__data = response.json()\n",
    "                \n",
    "        process(self)\n",
    "\n",
    "        \n",
    "    def get_data (self):\n",
    "        \"\"\" returns the data related to the query \"\"\"\n",
    "        return self.__data\n",
    "    \n",
    "    \n",
    "    def get_query (self):\n",
    "        \"\"\" returns the desired query \"\"\"\n",
    "        return self.__query\n",
    "\n",
    "    \n",
    "    def get_json_string (self):\n",
    "        \"\"\" returns the JSON string related to the desired query \"\"\"\n",
    "        return self.__json_string\n",
    "    \n",
    "\n",
    "    def get_demand_type (self):\n",
    "        \"\"\" returns the type of the current demand \"\"\"\n",
    "        return self.__demand_type\n",
    "    \n",
    "    def get_view (self):\n",
    "        \"\"\" returns the desired type of view \"\"\"\n",
    "        return self.__view"
   ]
  },
  {
   "cell_type": "markdown",
   "id": "d3a93ae0",
   "metadata": {},
   "source": [
    "## Filling the form"
   ]
  },
  {
   "cell_type": "code",
   "execution_count": 20,
   "id": "29c027f7",
   "metadata": {
    "scrolled": false
   },
   "outputs": [
    {
     "data": {
      "application/vnd.jupyter.widget-view+json": {
       "model_id": "a0ec554609b54e14b71d63677f01c441",
       "version_major": 2,
       "version_minor": 0
      },
      "text/plain": [
       "HBox(children=(Select(description='# hexagons', layout=Layout(width='auto'), options=('not set', '=', '<>', '<…"
      ]
     },
     "metadata": {},
     "output_type": "display_data"
    },
    {
     "data": {
      "application/vnd.jupyter.widget-view+json": {
       "model_id": "2da225d5bc6541ea9295cdbe608a530d",
       "version_major": 2,
       "version_minor": 0
      },
      "text/plain": [
       "HBox(children=(Select(description='# carbons', layout=Layout(width='auto'), options=('not set', '=', '<>', '<=…"
      ]
     },
     "metadata": {},
     "output_type": "display_data"
    },
    {
     "data": {
      "application/vnd.jupyter.widget-view+json": {
       "model_id": "bf760774944d47239776d4c143509082",
       "version_major": 2,
       "version_minor": 0
      },
      "text/plain": [
       "HBox(children=(Select(description='# hydrogens', layout=Layout(width='auto'), options=('not set', '=', '<>', '…"
      ]
     },
     "metadata": {},
     "output_type": "display_data"
    },
    {
     "data": {
      "application/vnd.jupyter.widget-view+json": {
       "model_id": "0be3936edfe04722bdb4a39fa948c47a",
       "version_major": 2,
       "version_minor": 0
      },
      "text/plain": [
       "HBox(children=(Select(description='Benzenoid id', layout=Layout(width='auto'), options=('not set', '=', '<>', …"
      ]
     },
     "metadata": {},
     "output_type": "display_data"
    },
    {
     "data": {
      "application/vnd.jupyter.widget-view+json": {
       "model_id": "75d41c7cf2984089ba311b65f84188bf",
       "version_major": 2,
       "version_minor": 0
      },
      "text/plain": [
       "HBox(children=(Select(description='# solo', layout=Layout(width='auto'), options=('not set', '=', '<>', '<=', …"
      ]
     },
     "metadata": {},
     "output_type": "display_data"
    },
    {
     "data": {
      "application/vnd.jupyter.widget-view+json": {
       "model_id": "52d306eaa9b547009a9268a47abb844a",
       "version_major": 2,
       "version_minor": 0
      },
      "text/plain": [
       "HBox(children=(Select(description='# duo', layout=Layout(width='auto'), options=('not set', '=', '<>', '<=', '…"
      ]
     },
     "metadata": {},
     "output_type": "display_data"
    },
    {
     "data": {
      "application/vnd.jupyter.widget-view+json": {
       "model_id": "0a69cd75f81b406391e57dd0dbc9d971",
       "version_major": 2,
       "version_minor": 0
      },
      "text/plain": [
       "HBox(children=(Select(description='# trio', layout=Layout(width='auto'), options=('not set', '=', '<>', '<=', …"
      ]
     },
     "metadata": {},
     "output_type": "display_data"
    },
    {
     "data": {
      "application/vnd.jupyter.widget-view+json": {
       "model_id": "6717f56781b84b5f98b06f49037ed75a",
       "version_major": 2,
       "version_minor": 0
      },
      "text/plain": [
       "HBox(children=(Select(description='# quartet', layout=Layout(width='auto'), options=('not set', '=', '<>', '<=…"
      ]
     },
     "metadata": {},
     "output_type": "display_data"
    },
    {
     "data": {
      "application/vnd.jupyter.widget-view+json": {
       "model_id": "839c68063eb540dd9f7261902cec1c14",
       "version_major": 2,
       "version_minor": 0
      },
      "text/plain": [
       "HBox(children=(Select(description='# Kekulé structures', layout=Layout(width='auto'), options=('not set', '=',…"
      ]
     },
     "metadata": {},
     "output_type": "display_data"
    },
    {
     "data": {
      "application/vnd.jupyter.widget-view+json": {
       "model_id": "db27b1af6c0e4e579d7f74d11c9ddccb",
       "version_major": 2,
       "version_minor": 0
      },
      "text/plain": [
       "HBox(children=(Select(description='Is catacondensed', layout=Layout(width='auto'), options=('not set', '=', '<…"
      ]
     },
     "metadata": {},
     "output_type": "display_data"
    },
    {
     "data": {
      "application/vnd.jupyter.widget-view+json": {
       "model_id": "0a9ec4da172d48b58c0560566384c7ed",
       "version_major": 2,
       "version_minor": 0
      },
      "text/plain": [
       "HBox(children=(Select(description='Is coronenoid', layout=Layout(width='auto'), options=('not set', '=', '<>',…"
      ]
     },
     "metadata": {},
     "output_type": "display_data"
    },
    {
     "data": {
      "application/vnd.jupyter.widget-view+json": {
       "model_id": "696486b89cc541019333cea057d96a3d",
       "version_major": 2,
       "version_minor": 0
      },
      "text/plain": [
       "HBox(children=(Select(description='Is coronoid', layout=Layout(width='auto'), options=('not set', '=', '<>', '…"
      ]
     },
     "metadata": {},
     "output_type": "display_data"
    },
    {
     "data": {
      "application/vnd.jupyter.widget-view+json": {
       "model_id": "4d6f9ed67fae48faa8c82174837a1d9a",
       "version_major": 2,
       "version_minor": 0
      },
      "text/plain": [
       "HBox(children=(Select(description='Irregularity', layout=Layout(width='auto'), options=('not set', '=', '<>', …"
      ]
     },
     "metadata": {},
     "output_type": "display_data"
    },
    {
     "data": {
      "application/vnd.jupyter.widget-view+json": {
       "model_id": "b5f1a9f29b5747358c535c9b261b9b0a",
       "version_major": 2,
       "version_minor": 0
      },
      "text/plain": [
       "HBox(children=(Select(description='Frequency', layout=Layout(width='auto'), options=('not set', '=', '<>', '<=…"
      ]
     },
     "metadata": {},
     "output_type": "display_data"
    },
    {
     "data": {
      "application/vnd.jupyter.widget-view+json": {
       "model_id": "b319347fcc9e4baab76b5f83fc06c715",
       "version_major": 2,
       "version_minor": 0
      },
      "text/plain": [
       "HBox(children=(Select(description='Intensity', layout=Layout(width='auto'), options=('not set', '=', '<>', '<=…"
      ]
     },
     "metadata": {},
     "output_type": "display_data"
    },
    {
     "data": {
      "application/vnd.jupyter.widget-view+json": {
       "model_id": "4c8ff58461824ae89e6de568a20039a1",
       "version_major": 2,
       "version_minor": 0
      },
      "text/plain": [
       "HBox(children=(Select(description='InChI', layout=Layout(width='auto'), options=('not set', '=', '<>'), rows=1…"
      ]
     },
     "metadata": {},
     "output_type": "display_data"
    },
    {
     "data": {
      "application/vnd.jupyter.widget-view+json": {
       "model_id": "d470a7f9d0b140f49fa29a84c104be58",
       "version_major": 2,
       "version_minor": 0
      },
      "text/plain": [
       "HBox(children=(Select(description='BenzAI label', layout=Layout(width='auto'), options=('not set', '=', '<>'),…"
      ]
     },
     "metadata": {},
     "output_type": "display_data"
    },
    {
     "data": {
      "application/vnd.jupyter.widget-view+json": {
       "model_id": "8f03e160e4614313abb0849e1568ef0c",
       "version_major": 2,
       "version_minor": 0
      },
      "text/plain": [
       "HBox(children=(Select(description='Symmetry', layout=Layout(width='auto'), options=('not set', '=', '<>'), row…"
      ]
     },
     "metadata": {},
     "output_type": "display_data"
    },
    {
     "data": {
      "application/vnd.jupyter.widget-view+json": {
       "model_id": "6f202df715d447f6b6cc7c2f727bc80a",
       "version_major": 2,
       "version_minor": 0
      },
      "text/plain": [
       "HBox(children=(Select(description='query', layout=Layout(width='auto'), options=('benzenoids', 'ir', 'ims2d1a'…"
      ]
     },
     "metadata": {},
     "output_type": "display_data"
    },
    {
     "data": {
      "application/vnd.jupyter.widget-view+json": {
       "model_id": "7daff6c35feb4d2fbb8d46a4c5d2cc49",
       "version_major": 2,
       "version_minor": 0
      },
      "text/plain": [
       "HBox(children=(Select(description='View type', layout=Layout(width='auto'), options=('global', 'one by one'), …"
      ]
     },
     "metadata": {},
     "output_type": "display_data"
    },
    {
     "data": {
      "application/vnd.jupyter.widget-view+json": {
       "model_id": "a445469ec4124842866bdb2dada67f7a",
       "version_major": 2,
       "version_minor": 0
      },
      "text/plain": [
       "HBox(children=(Button(description='Count', style=ButtonStyle()), Button(description='Get Data', style=ButtonSt…"
      ]
     },
     "metadata": {},
     "output_type": "display_data"
    }
   ],
   "source": [
    "form = Form()\n"
   ]
  },
  {
   "cell_type": "code",
   "execution_count": null,
   "id": "9c67ef7d",
   "metadata": {},
   "outputs": [],
   "source": []
  }
 ],
 "metadata": {
  "kernelspec": {
   "display_name": "Python 3 (ipykernel)",
   "language": "python",
   "name": "python3"
  },
  "language_info": {
   "codemirror_mode": {
    "name": "ipython",
    "version": 3
   },
   "file_extension": ".py",
   "mimetype": "text/x-python",
   "name": "python",
   "nbconvert_exporter": "python",
   "pygments_lexer": "ipython3",
   "version": "3.12.3"
  }
 },
 "nbformat": 4,
 "nbformat_minor": 5
}
