{
 "cells": [
  {
   "cell_type": "markdown",
   "id": "cbb5c889",
   "metadata": {},
   "source": [
    "# BenzDB tools"
   ]
  },
  {
   "cell_type": "markdown",
   "id": "a8f04d68",
   "metadata": {},
   "source": [
    "## Source code"
   ]
  },
  {
   "cell_type": "markdown",
   "id": "32e20f32",
   "metadata": {},
   "source": [
    "### Module imports"
   ]
  },
  {
   "cell_type": "code",
   "execution_count": 1,
   "id": "d36ac1f9",
   "metadata": {},
   "outputs": [],
   "source": [
    "import ipywidgets as w\n",
    "import requests\n",
    "import json\n",
    "import base64 \n",
    "import io\n",
    "from PIL import Image\n",
    "import IPython as ip\n",
    "import jupyter_jsmol as Jsmol\n",
    "import pandas as pd\n",
    "import matplotlib.pyplot as plt"
   ]
  },
  {
   "cell_type": "markdown",
   "id": "6b3eef6d",
   "metadata": {},
   "source": [
    "### Definition of criterion classes"
   ]
  },
  {
   "cell_type": "markdown",
   "id": "700f00e2",
   "metadata": {},
   "source": [
    "#### Definition of the main criterion class"
   ]
  },
  {
   "cell_type": "code",
   "execution_count": 2,
   "id": "780e27d9",
   "metadata": {},
   "outputs": [],
   "source": [
    "class Criterion:\n",
    "    \"\"\" This class allows for representing criterions \"\"\"\n",
    "    \n",
    "    def __init__ (self, key: str, description: str):\n",
    "        \"\"\" initializes the criterion \"\"\"\n",
    "        self.__key = key\n",
    "        self.__description  = description     \n",
    "    \n",
    "    \n",
    "    def display (self):\n",
    "        \"\"\" displays the widget corresponding to the criterion \"\"\"\n",
    "        pass\n",
    "    \n",
    "    \n",
    "    def get_criterion (self) -> str:\n",
    "        \"\"\" returns the JSON string corresponding to the criterion, an empty string if the criterion is not set \"\"\"\n",
    "        pass\n",
    "    \n",
    "    \n",
    "    def get_description (self) -> str:\n",
    "        \"\"\" returns the description \"\"\"\n",
    "        return self.__description\n",
    "    \n",
    "    def get_key (self) -> str:\n",
    "        \"\"\" returns the key related to the criterion \"\"\"\n",
    "        return self.__key"
   ]
  },
  {
   "cell_type": "markdown",
   "id": "ac80c7fc",
   "metadata": {},
   "source": [
    "#### Definition of criterion child classes"
   ]
  },
  {
   "cell_type": "code",
   "execution_count": 3,
   "id": "c6431fa8",
   "metadata": {},
   "outputs": [],
   "source": [
    "class Int_Criterion (Criterion):\n",
    "    \"\"\" This class allows for representing criterions based on int value \"\"\"\n",
    " \n",
    "    def __init__ (self, key: str, description: str, min_value: int, max_value: int):\n",
    "        \"\"\" initializes the criterion \"\"\"\n",
    "        super().__init__(key, description)\n",
    "        \n",
    "        self.__element =  w.BoundedIntText(value=min_value, min=min_value, max=max_value, layout={\"width\": \"auto\"})\n",
    "        self.__condition = w.Select(description=self.get_description(), options=[\"not set\",\"=\",\"<>\",\"<=\",\"<\",\">\",\">=\"], value='not set', rows=1, layout={\"width\": \"auto\"})\n",
    "                \n",
    "        box = w.HBox([self.__condition, self.__element])\n",
    "        display(box)\n",
    "        \n",
    "    \n",
    "    def get_criterion (self) -> str:\n",
    "        \"\"\" returns the JSON string corresponding to the criterion, an empty string if the criterion is not set \"\"\"\n",
    "        if self.__condition.value == \"not set\":\n",
    "            return \"\"\n",
    "        else:\n",
    "            return '\"' + self.get_key() + '\": \"' + self.__condition.value + \" \" + str(self.__element.value) + '\"'"
   ]
  },
  {
   "cell_type": "code",
   "execution_count": 4,
   "id": "a0cc879d",
   "metadata": {},
   "outputs": [],
   "source": [
    "class Float_Criterion (Criterion):\n",
    "    \"\"\" This class allows for representing criterions based on float value \"\"\"\n",
    " \n",
    "    def __init__ (self, key: str, description: str, min_value: float, max_value: float):\n",
    "        \"\"\" initializes the criterion \"\"\"\n",
    "        super().__init__(key, description)\n",
    "        \n",
    "        self.__element =  w.BoundedFloatText(value=min_value, min=min_value, max=max_value, layout={\"width\": \"auto\"})\n",
    "        self.__condition = w.Select(description=self.get_description(), options=[\"not set\",\"=\",\"<>\",\"<=\",\"<\",\">\",\">=\"], value='not set', rows=1, layout={\"width\": \"auto\"})\n",
    "                \n",
    "        box = w.HBox([self.__condition, self.__element])\n",
    "        display(box)\n",
    "        \n",
    "    \n",
    "    def get_criterion (self) -> str:\n",
    "        \"\"\" returns the JSON string corresponding to the criterion, an empty string if the criterion is not set \"\"\"\n",
    "        if self.__condition.value == \"not set\":\n",
    "            return \"\"\n",
    "        else:\n",
    "            return '\"' + self.get_key() + '\": \"' + self.__condition.value + \" \" + str(self.__element.value) + '\"'"
   ]
  },
  {
   "cell_type": "code",
   "execution_count": 5,
   "id": "c3ed9bf5",
   "metadata": {},
   "outputs": [],
   "source": [
    "class String_Criterion (Criterion):\n",
    "    \"\"\" This class allows for representing criterions based on string value \"\"\"\n",
    " \n",
    "    def __init__ (self, key: str, description: str):\n",
    "        \"\"\" initializes the criterion \"\"\"\n",
    "        super().__init__(key, description)\n",
    "        \n",
    "        self.__element =  w.Text(layout={\"width\": \"auto\"})\n",
    "        self.__condition = w.Select(description=self.get_description(), options=[\"not set\",\"=\",\"<>\"], value='not set', rows=1, layout={\"width\": \"auto\"})\n",
    "                \n",
    "        box = w.HBox([self.__condition, self.__element])\n",
    "        display(box)\n",
    "        \n",
    "    \n",
    "    def get_criterion (self) -> str:\n",
    "        \"\"\" returns the JSON string corresponding to the criterion, an empty string if the criterion is not set \"\"\"\n",
    "        if self.__condition.value == \"not set\":\n",
    "            return \"\"\n",
    "        else:\n",
    "            return '\"' + self.get_key() + '\": \"' + self.__condition.value + \" \" + str(self.__element.value) + '\"'"
   ]
  },
  {
   "cell_type": "code",
   "execution_count": 6,
   "id": "89500dc2",
   "metadata": {},
   "outputs": [],
   "source": [
    "class Query_Criterion (Criterion):\n",
    "    \"\"\" This class allows for representing the desired query \"\"\"\n",
    " \n",
    "    def __init__ (self, key: str, description: str):\n",
    "        \"\"\" initializes the criterion \"\"\"\n",
    "        super().__init__(key, description)\n",
    "        \n",
    "        self.__element =  w.Select(description=self.get_description(), options=[\"benzenoids\",\"ir\",\"ims2d1a\",\"nics\",\"clar_covers\",\"properties\",\"irregularities\"], value='benzenoids', rows=1, layout={\"width\": \"auto\"})\n",
    "                \n",
    "        box = w.HBox([self.__element])\n",
    "        display(box)\n",
    "        \n",
    "    \n",
    "    def get_criterion (self) -> str:\n",
    "        \"\"\" returns the JSON string corresponding to the criterion, an empty string if the criterion is not set \"\"\"\n",
    "        return str(self.__element.value)"
   ]
  },
  {
   "cell_type": "markdown",
   "id": "1f5496b1",
   "metadata": {},
   "source": [
    "### Definition of the display classes"
   ]
  },
  {
   "cell_type": "code",
   "execution_count": 7,
   "id": "b1a8a707",
   "metadata": {},
   "outputs": [],
   "source": [
    "class Table:\n",
    "    \"\"\" This class allows for displaying a table containing benzenoid information \"\"\"\n",
    "    \n",
    "    def __init__ (self):\n",
    "        \"\"\" initializes the display tool \"\"\"\n",
    "        self.__data = {}\n",
    "    \n",
    "    \n",
    "    def add_data (self, label, value) -> None:\n",
    "        \"\"\" adds a label to display with its corresponding value \"\"\"\n",
    "        if label not in self.__data:\n",
    "            self.__data[label] = []\n",
    "        self.__data [label] += [value]\n",
    "        \n",
    "    \n",
    "    def add_row (self, info: dict) -> None:\n",
    "        \"\"\" adds a row based on the given information \"\"\"           \n",
    "        self.add_data (\"Benzenoid id\", info[\"idBenzenoid\"])\n",
    "        self.add_data (\"InChI\", info[\"inchi\"])\n",
    "        self.add_data (\"Label\", info[\"label\"])\n",
    "        self.add_data (\"#hexagons\", info[\"nbHexagons\"])\n",
    "        self.add_data (\"#carbons\", info[\"nbCarbons\"])\n",
    "        self.add_data (\"#hydrogens\", info[\"nbHydrogens\"])\n",
    "        self.add_data (\"Weight\", info[\"weight\"])\n",
    "        self.add_data (\"Irregularity\", info[\"irregularity\"])\n",
    "        \n",
    "        \n",
    "    def print (self):\n",
    "        \"\"\" prints the table \"\"\"\n",
    "        self.__df = pd.DataFrame(self.__data)\n",
    "        ip.display.display(self.__df)\n"
   ]
  },
  {
   "cell_type": "code",
   "execution_count": 8,
   "id": "8d882d91",
   "metadata": {},
   "outputs": [],
   "source": [
    "class Table_Properties (Table):\n",
    "    \"\"\" This class allows for displaying a table containing benzenoid information from properties query \"\"\"\n",
    "\n",
    "    def add_row (self, info: dict) -> None:\n",
    "        \"\"\" adds a row based on the given information \"\"\"\n",
    "        super().add_row (info)\n",
    "        yesno = [\"no\",\"yes\"]\n",
    "        self.add_data (\"Catacondensed\", yesno[info[\"catacondensed\"]])\n",
    "        self.add_data (\"Coronoid\", yesno[info[\"coronoid\"]])\n",
    "        self.add_data (\"Coronenoid\", yesno[info[\"coronenoid\"]])\n",
    "        self.add_data (\"Symmetry\", info[\"symmetry\"])\n",
    "        self.add_data (\"#Kekulé structures\", info[\"kekule\"])\n",
    "        self.add_data (\"HOMO\", info[\"homo\"])\n",
    "        self.add_data (\"LUMO\", info[\"lumo\"])\n",
    "        self.add_data (\"Dipole moment\", info[\"moment\"])"
   ]
  },
  {
   "cell_type": "code",
   "execution_count": 9,
   "id": "eb5f0030",
   "metadata": {},
   "outputs": [],
   "source": [
    "class Table_Irregularities (Table):\n",
    "    \"\"\" This class allows for displaying a table containing benzenoid information from irregularities query \"\"\"\n",
    "    \n",
    "    def add_row (self, info: dict) -> None:\n",
    "        \"\"\" adds a row based on the given information \"\"\"\n",
    "        super().add_row (info)\n",
    "        self.add_data (\"# solo\", info[\"solo\"])\n",
    "        self.add_data (\"# duo\", info[\"duo\"])\n",
    "        self.add_data (\"# trio\", info[\"trio\"])\n",
    "        self.add_data (\"# quartet\", info[\"quartet\"])\n",
    "        "
   ]
  },
  {
   "cell_type": "markdown",
   "id": "a5c4b502",
   "metadata": {},
   "source": [
    "### Definition of the form class"
   ]
  },
  {
   "cell_type": "code",
   "execution_count": 10,
   "id": "5b550263",
   "metadata": {},
   "outputs": [],
   "source": [
    "def process (form):    \n",
    "    demand_type = form.get_demand_type()\n",
    "\n",
    "    if demand_type == \"data\":\n",
    "        data = form.get_data()\n",
    "        query = form.get_query()\n",
    "        if query == \"properties\":\n",
    "            d = Table_Properties()\n",
    "        elif query == \"irregularities\":\n",
    "            d = Table_Irregularities()\n",
    "        else:\n",
    "            d = Table()\n",
    "        for molecule in data:\n",
    "            d.add_row (molecule)\n",
    "        d.print()\n",
    "\n",
    "    elif demand_type == \"count\":\n",
    "        print (\"Number of molecules:\",form.get_data())\n",
    "\n",
    "    elif demand_type == \"json\":\n",
    "        print (\"JSON query:\")\n",
    "        print (form.get_json_string())\n",
    "        \n",
    "    elif demand_type == \"result\":\n",
    "        print (\"JSON result:\")\n",
    "        print (form.get_data())"
   ]
  },
  {
   "cell_type": "code",
   "execution_count": 15,
   "id": "ea558817",
   "metadata": {},
   "outputs": [],
   "source": [
    "class Form:\n",
    "    \n",
    "    def __init__ (self):\n",
    "        \"\"\" initialise the form \"\"\"\n",
    "        self.__query = None         # the query\n",
    "        self.__demand_type = None   # the type of demand\n",
    "        self.__json_string = None   # the query as a JSON string\n",
    "        self.__data = None          # the data related to the query (if the query succeeds)\n",
    "        \n",
    "        self.create_form()\n",
    "        \n",
    "        \n",
    "    def create_form(self) -> None:\n",
    "        \"\"\" creates the form allowing for choosing the values of desired criteria \"\"\"\n",
    "        self.__criteria = []\n",
    "\n",
    "        # criteria about basic information\n",
    "        self.__criteria.append (Int_Criterion(key=\"nbHexagons\", description=\"# hexagons\", min_value=1, max_value=9))\n",
    "        self.__criteria.append (Int_Criterion(key=\"nbCarbons\", description=\"# carbons\", min_value=6, max_value=38))\n",
    "        self.__criteria.append (Int_Criterion(key=\"nbHydrogens\", description=\"# hydrogens\", min_value=6, max_value=22))\n",
    "        self.__criteria.append (Int_Criterion(key=\"idBenzenoid\", description=\"Benzenoid id\", min_value=0, max_value=8391))\n",
    "        self.__criteria.append (Int_Criterion(key=\"solo\", description=\"# solo\", min_value=0, max_value=14))\n",
    "        self.__criteria.append (Int_Criterion(key=\"duo\", description=\"# duo\", min_value=0, max_value=14))\n",
    "        self.__criteria.append (Int_Criterion(key=\"trio\", description=\"# trio\", min_value=0, max_value=18))\n",
    "        self.__criteria.append (Int_Criterion(key=\"quartet\", description=\"# quartet\", min_value=0, max_value=20))\n",
    "        self.__criteria.append (Int_Criterion(key=\"kekule\", description=\"# Kekulé structures\", min_value=0, max_value=110))\n",
    "        self.__criteria.append (Int_Criterion(key=\"catacondensed\", description=\"Is catacondensed\", min_value=0, max_value=1))\n",
    "        self.__criteria.append (Int_Criterion(key=\"coronenoid\", description=\"Is coronenoid\", min_value=0, max_value=1))\n",
    "        self.__criteria.append (Int_Criterion(key=\"coronoid\", description=\"Is coronoid\", min_value=0, max_value=1))\n",
    "        self.__criteria.append (Float_Criterion(key=\"irregularity\", description=\"Irregularity\", min_value=0, max_value=1))\n",
    "        self.__criteria.append (Float_Criterion(key=\"frequency\", description=\"Frequency\", min_value=0, max_value=3466))\n",
    "        self.__criteria.append (Float_Criterion(key=\"intensity\", description=\"Intensity\", min_value=0, max_value=2742))\n",
    "        self.__criteria.append (String_Criterion(key=\"inchi\", description=\"InChI\"))\n",
    "        self.__criteria.append (String_Criterion(key=\"label\", description=\"BenzAI label\"))\n",
    "        self.__criteria.append (String_Criterion(key=\"symmetry\", description=\"Symmetry\"))\n",
    "        \n",
    "\n",
    "        # query\n",
    "        self.__criteria.append (Query_Criterion(key=\"query\", description=\"query\"))    \n",
    "\n",
    "        # validation buttons\n",
    "        count_btn = w.Button (description=\"Count\")\n",
    "        count_btn.on_click (self.perform_query)\n",
    "\n",
    "        getdata_btn = w.Button (description=\"Get Data\")\n",
    "        getdata_btn.on_click (self.perform_query)\n",
    "\n",
    "        getquery_btn = w.Button (description=\"Get JSON Query\")\n",
    "        getquery_btn.on_click (self.perform_query)\n",
    "        \n",
    "        getresult_btn = w.Button (description=\"Get JSON Result\")\n",
    "        getresult_btn.on_click (self.perform_query)\n",
    "        \n",
    "        box = w.HBox([count_btn, getdata_btn, getquery_btn, getresult_btn])\n",
    "        display(box)\n",
    "    \n",
    "    \n",
    "    def perform_query (self, btn) -> None:\n",
    "        \"\"\" performs the query and sets the corresponding attributes \"\"\" \n",
    "        # we identify the type of demand\n",
    "        if btn.description == \"Count\":\n",
    "            self.__demand_type = \"count\"\n",
    "        elif btn.description == \"Get Data\":\n",
    "            self.__demand_type = \"data\"\n",
    "        elif btn.description == \"Get JSON Query\":\n",
    "            self.__demand_type = \"json\"\n",
    "        elif btn.description == \"Get JSON Result\":\n",
    "            self.__demand_type = \"result\"\n",
    "        else:\n",
    "            self.__demand_type = \"unknown\"\n",
    "\n",
    "        # we build the JSON string\n",
    "        self.__json_string = \"{\\n\"\n",
    "        for c in self.__criteria:\n",
    "            if isinstance(c,Query_Criterion):\n",
    "                self.__query = c.get_criterion()\n",
    "            else:\n",
    "                s = c.get_criterion()\n",
    "                if len(s) > 0:\n",
    "                    if len(self.__json_string) > 3:\n",
    "                        self.__json_string += \",\\n\"\n",
    "                    self.__json_string += \"\\t\" + s\n",
    "        self.__json_string += \"\\n}\"\n",
    "\n",
    "        if self.__demand_type in [\"data\", \"result\"]:\n",
    "            response = requests.post(\"https://benzenoids.lis-lab.fr/find_\"+self.__query, json= json.loads(self.__json_string))\n",
    "        elif self.__demand_type == \"count\":\n",
    "            response = requests.post(\"https://benzenoids.lis-lab.fr/count_\"+self.__query, json= json.loads(self.__json_string))\n",
    "        \n",
    "        if self.__demand_type in [\"data\", \"count\", \"result\"]:\n",
    "            if response.status_code == 200:\n",
    "                self.__data = response.json()\n",
    "                \n",
    "        process(self)\n",
    "\n",
    "        \n",
    "    def get_data (self):\n",
    "        \"\"\" returns the data related to the query \"\"\"\n",
    "        return self.__data\n",
    "    \n",
    "    \n",
    "    def get_query (self):\n",
    "        \"\"\" returns the desired query \"\"\"\n",
    "        return self.__query\n",
    "\n",
    "    \n",
    "    def get_json_string (self):\n",
    "        \"\"\" returns the JSON string related to the desired query \"\"\"\n",
    "        return self.__json_string\n",
    "    \n",
    "\n",
    "    def get_demand_type (self):\n",
    "        \"\"\" returns the type of the current demand \"\"\"\n",
    "        return self.__demand_type"
   ]
  },
  {
   "cell_type": "markdown",
   "id": "d3a93ae0",
   "metadata": {},
   "source": [
    "## Filling the form"
   ]
  },
  {
   "cell_type": "code",
   "execution_count": 16,
   "id": "29c027f7",
   "metadata": {
    "scrolled": false
   },
   "outputs": [
    {
     "data": {
      "application/vnd.jupyter.widget-view+json": {
       "model_id": "3baf7880502743d4a32e018f53ad6cd4",
       "version_major": 2,
       "version_minor": 0
      },
      "text/plain": [
       "HBox(children=(Select(description='# hexagons', layout=Layout(width='auto'), options=('not set', '=', '<>', '<…"
      ]
     },
     "metadata": {},
     "output_type": "display_data"
    },
    {
     "data": {
      "application/vnd.jupyter.widget-view+json": {
       "model_id": "ed4cba78bb3b4d94bd60e06562145543",
       "version_major": 2,
       "version_minor": 0
      },
      "text/plain": [
       "HBox(children=(Select(description='# carbons', layout=Layout(width='auto'), options=('not set', '=', '<>', '<=…"
      ]
     },
     "metadata": {},
     "output_type": "display_data"
    },
    {
     "data": {
      "application/vnd.jupyter.widget-view+json": {
       "model_id": "5435a777a28b44c38dcd0140b14cc445",
       "version_major": 2,
       "version_minor": 0
      },
      "text/plain": [
       "HBox(children=(Select(description='# hydrogens', layout=Layout(width='auto'), options=('not set', '=', '<>', '…"
      ]
     },
     "metadata": {},
     "output_type": "display_data"
    },
    {
     "data": {
      "application/vnd.jupyter.widget-view+json": {
       "model_id": "e51eaf3a23dc46218d47ebde86c20a43",
       "version_major": 2,
       "version_minor": 0
      },
      "text/plain": [
       "HBox(children=(Select(description='Benzenoid id', layout=Layout(width='auto'), options=('not set', '=', '<>', …"
      ]
     },
     "metadata": {},
     "output_type": "display_data"
    },
    {
     "data": {
      "application/vnd.jupyter.widget-view+json": {
       "model_id": "82bd4f18b9c742268741885fbc237876",
       "version_major": 2,
       "version_minor": 0
      },
      "text/plain": [
       "HBox(children=(Select(description='# solo', layout=Layout(width='auto'), options=('not set', '=', '<>', '<=', …"
      ]
     },
     "metadata": {},
     "output_type": "display_data"
    },
    {
     "data": {
      "application/vnd.jupyter.widget-view+json": {
       "model_id": "2994df242bbc46d6af70b4ab04cd92a1",
       "version_major": 2,
       "version_minor": 0
      },
      "text/plain": [
       "HBox(children=(Select(description='# duo', layout=Layout(width='auto'), options=('not set', '=', '<>', '<=', '…"
      ]
     },
     "metadata": {},
     "output_type": "display_data"
    },
    {
     "data": {
      "application/vnd.jupyter.widget-view+json": {
       "model_id": "7aef73c279f14b6cae584746470a6002",
       "version_major": 2,
       "version_minor": 0
      },
      "text/plain": [
       "HBox(children=(Select(description='# trio', layout=Layout(width='auto'), options=('not set', '=', '<>', '<=', …"
      ]
     },
     "metadata": {},
     "output_type": "display_data"
    },
    {
     "data": {
      "application/vnd.jupyter.widget-view+json": {
       "model_id": "161203f926ea47ee9db891037f3e8e02",
       "version_major": 2,
       "version_minor": 0
      },
      "text/plain": [
       "HBox(children=(Select(description='# quartet', layout=Layout(width='auto'), options=('not set', '=', '<>', '<=…"
      ]
     },
     "metadata": {},
     "output_type": "display_data"
    },
    {
     "data": {
      "application/vnd.jupyter.widget-view+json": {
       "model_id": "8fdfe4ac5e6d43b89657ddb2ac3947a7",
       "version_major": 2,
       "version_minor": 0
      },
      "text/plain": [
       "HBox(children=(Select(description='# Kekulé structures', layout=Layout(width='auto'), options=('not set', '=',…"
      ]
     },
     "metadata": {},
     "output_type": "display_data"
    },
    {
     "data": {
      "application/vnd.jupyter.widget-view+json": {
       "model_id": "277eb889e1284251a5f302a46dc71c46",
       "version_major": 2,
       "version_minor": 0
      },
      "text/plain": [
       "HBox(children=(Select(description='Is catacondensed', layout=Layout(width='auto'), options=('not set', '=', '<…"
      ]
     },
     "metadata": {},
     "output_type": "display_data"
    },
    {
     "data": {
      "application/vnd.jupyter.widget-view+json": {
       "model_id": "f6846230913e40d08b2f8a0d201f9176",
       "version_major": 2,
       "version_minor": 0
      },
      "text/plain": [
       "HBox(children=(Select(description='Is coronenoid', layout=Layout(width='auto'), options=('not set', '=', '<>',…"
      ]
     },
     "metadata": {},
     "output_type": "display_data"
    },
    {
     "data": {
      "application/vnd.jupyter.widget-view+json": {
       "model_id": "01448ea6c557445bab76b81c392fac57",
       "version_major": 2,
       "version_minor": 0
      },
      "text/plain": [
       "HBox(children=(Select(description='Is coronoid', layout=Layout(width='auto'), options=('not set', '=', '<>', '…"
      ]
     },
     "metadata": {},
     "output_type": "display_data"
    },
    {
     "data": {
      "application/vnd.jupyter.widget-view+json": {
       "model_id": "0c3c9358dcf341ff8d448833ef514d4a",
       "version_major": 2,
       "version_minor": 0
      },
      "text/plain": [
       "HBox(children=(Select(description='Irregularity', layout=Layout(width='auto'), options=('not set', '=', '<>', …"
      ]
     },
     "metadata": {},
     "output_type": "display_data"
    },
    {
     "data": {
      "application/vnd.jupyter.widget-view+json": {
       "model_id": "98ca99b154954c82aa9d4f86074956cc",
       "version_major": 2,
       "version_minor": 0
      },
      "text/plain": [
       "HBox(children=(Select(description='Frequency', layout=Layout(width='auto'), options=('not set', '=', '<>', '<=…"
      ]
     },
     "metadata": {},
     "output_type": "display_data"
    },
    {
     "data": {
      "application/vnd.jupyter.widget-view+json": {
       "model_id": "b7536dcbcf2849da9fcb460469bea7e9",
       "version_major": 2,
       "version_minor": 0
      },
      "text/plain": [
       "HBox(children=(Select(description='Intensity', layout=Layout(width='auto'), options=('not set', '=', '<>', '<=…"
      ]
     },
     "metadata": {},
     "output_type": "display_data"
    },
    {
     "data": {
      "application/vnd.jupyter.widget-view+json": {
       "model_id": "1f563e400db94b3c9f0d25c9bea0c489",
       "version_major": 2,
       "version_minor": 0
      },
      "text/plain": [
       "HBox(children=(Select(description='InChI', layout=Layout(width='auto'), options=('not set', '=', '<>'), rows=1…"
      ]
     },
     "metadata": {},
     "output_type": "display_data"
    },
    {
     "data": {
      "application/vnd.jupyter.widget-view+json": {
       "model_id": "ae8aec5ad34f45768c591ccdafca6711",
       "version_major": 2,
       "version_minor": 0
      },
      "text/plain": [
       "HBox(children=(Select(description='BenzAI label', layout=Layout(width='auto'), options=('not set', '=', '<>'),…"
      ]
     },
     "metadata": {},
     "output_type": "display_data"
    },
    {
     "data": {
      "application/vnd.jupyter.widget-view+json": {
       "model_id": "4bab038324444f67a8686abbdece0977",
       "version_major": 2,
       "version_minor": 0
      },
      "text/plain": [
       "HBox(children=(Select(description='Symmetry', layout=Layout(width='auto'), options=('not set', '=', '<>'), row…"
      ]
     },
     "metadata": {},
     "output_type": "display_data"
    },
    {
     "data": {
      "application/vnd.jupyter.widget-view+json": {
       "model_id": "af10bff5ec044d33911a94b88cbe5f84",
       "version_major": 2,
       "version_minor": 0
      },
      "text/plain": [
       "HBox(children=(Select(description='query', layout=Layout(width='auto'), options=('benzenoids', 'ir', 'ims2d1a'…"
      ]
     },
     "metadata": {},
     "output_type": "display_data"
    },
    {
     "data": {
      "application/vnd.jupyter.widget-view+json": {
       "model_id": "f192877aec0c48c49e49fd64cc59974c",
       "version_major": 2,
       "version_minor": 0
      },
      "text/plain": [
       "HBox(children=(Button(description='Count', style=ButtonStyle()), Button(description='Get Data', style=ButtonSt…"
      ]
     },
     "metadata": {},
     "output_type": "display_data"
    },
    {
     "name": "stdout",
     "output_type": "stream",
     "text": [
      "JSON result:\n",
      "[{'idBenzenoid': 3532, 'inchi': '1S/C14H10/c1-3-7-13-11(5-1)9-10-12-6-2-4-8-14(12)13/h1-10H', 'label': '1-3-4', 'nbHexagons': 3, 'nbCarbons': 14, 'nbHydrogens': 10, 'irregularity': 0.8, 'graphFile': 'p DIMACS 14 16 3\\ne 0_0 1_1\\ne 0_0 -1_1\\ne 1_1 1_2\\ne 1_2 0_3\\ne 0_3 -1_2\\ne 0_3 0_4\\ne -1_2 -1_1\\ne -1_2 -2_3\\ne -3_2 -2_3\\ne -3_2 -4_3\\ne -2_3 -2_4\\ne -2_4 -3_5\\ne -2_4 -1_5\\ne -3_5 -4_4\\ne -4_4 -4_3\\ne 0_4 -1_5\\nh 0_0 1_1 1_2 0_3 -1_2 -1_1 \\nh -3_2 -2_3 -2_4 -3_5 -4_4 -4_3 \\nh -1_2 0_3 0_4 -1_5 -2_4 -2_3 \\n', 'geometry': 'C 0.00000 -0.68162 2.09919\\nC 0.00000 -1.42610 0.86923\\nC 0.00000 0.68162 2.09919\\nC 0.00000 -0.73006 -0.38141\\nC 0.00000 -2.84366 0.88143\\nC 0.00000 0.73006 -0.38141\\nC 0.00000 -1.50189 -1.57087\\nC 0.00000 1.42610 0.86923\\nC 0.00000 1.50189 -1.57087\\nC 0.00000 2.84366 0.88143\\nC 0.00000 -3.56876 -0.29788\\nC 0.00000 -2.88823 -1.53355\\nC 0.00000 2.88823 -1.53355\\nC 0.00000 3.56876 -0.29788\\nH 0.00000 -1.23461 3.03409\\nH 0.00000 1.23461 3.03409\\nH 0.00000 -3.35480 1.84013\\nH 0.00000 -1.00796 -2.53536\\nH 0.00000 1.00796 -2.53536\\nH 0.00000 3.35480 1.84013\\nH 0.00000 -4.65372 -0.27489\\nH 0.00000 -3.45232 -2.46085\\nH 0.00000 3.45232 -2.46085\\nH 0.00000 4.65372 -0.27489\\n', 'weight': 178.22976}, {'idBenzenoid': 4421, 'inchi': '1S/C14H10/c1-2-6-12-10-14-8-4-3-7-13(14)9-11(12)5-1/h1-10H', 'label': '0-4-8', 'nbHexagons': 3, 'nbCarbons': 14, 'nbHydrogens': 10, 'irregularity': 0.8, 'graphFile': 'p DIMACS 14 16 3\\ne 0_0 1_1\\ne 0_0 -1_1\\ne 1_1 1_2\\ne 1_2 0_3\\ne 1_2 2_3\\ne 0_3 -1_2\\ne 0_3 0_4\\ne -1_2 -1_1\\ne 2_3 2_4\\ne 2_4 1_5\\ne 2_4 3_5\\ne 1_5 0_4\\ne 1_5 1_6\\ne 3_5 3_6\\ne 3_6 2_7\\ne 2_7 1_6\\nh 0_0 1_1 1_2 0_3 -1_2 -1_1 \\nh 1_2 2_3 2_4 1_5 0_4 0_3 \\nh 2_4 3_5 3_6 2_7 1_6 1_5 \\n', 'geometry': 'C 0.00000 3.66919 -0.71446\\nC 0.00000 2.48457 -1.41049\\nC -0.00000 3.66919 0.71446\\nC 0.00000 1.22646 -0.72454\\nC -0.00000 1.22646 0.72454\\nC -0.00000 0.00000 -1.40733\\nC -0.00000 2.48457 1.41049\\nC -0.00000 0.00000 1.40733\\nC 0.00000 -1.22646 -0.72454\\nC 0.00000 -1.22646 0.72454\\nC 0.00000 -2.48457 -1.41049\\nC 0.00000 -2.48457 1.41049\\nC 0.00000 -3.66919 -0.71446\\nC 0.00000 -3.66919 0.71446\\nH 0.00000 4.61543 -1.24608\\nH 0.00000 2.48156 -2.49690\\nH -0.00000 4.61543 1.24608\\nH -0.00000 0.00000 -2.49458\\nH -0.00000 2.48156 2.49690\\nH -0.00000 0.00000 2.49458\\nH 0.00000 -2.48156 -2.49690\\nH 0.00000 -2.48156 2.49690\\nH 0.00000 -4.61543 -1.24608\\nH 0.00000 -4.61543 1.24608\\n', 'weight': 178.22976}, {'idBenzenoid': 4674, 'inchi': '1S/C13H22/c1-4-10-6-2-8-12-9-3-7-11(5-1)13(10)12/h10-13H,1-9H2', 'label': '0-3-4', 'nbHexagons': 3, 'nbCarbons': 13, 'nbHydrogens': 9, 'irregularity': 1.0, 'graphFile': 'p DIMACS 13 15 3\\ne 0_0 1_1\\ne 0_0 -1_1\\ne 1_1 1_2\\ne 1_1 2_0\\ne 1_2 0_3\\ne 1_2 2_3\\ne 0_3 -1_2\\ne 0_3 0_4\\ne -1_2 -1_1\\ne 2_0 3_1\\ne 3_1 3_2\\ne 3_2 2_3\\ne 2_3 2_4\\ne 2_4 1_5\\ne 1_5 0_4\\nh 0_0 1_1 1_2 0_3 -1_2 -1_1 \\nh 2_0 3_1 3_2 2_3 1_2 1_1 \\nh 1_2 2_3 2_4 1_5 0_4 0_3 \\n', 'geometry': 'C 1.24556 2.12044 0.00000\\nC 0.00000 1.43478 0.00000\\nC 2.44994 1.41447 -0.00000\\nC 0.00000 0.00000 0.00000\\nC -1.24556 2.12044 -0.00000\\nC 1.24256 -0.71739 0.00000\\nC -1.24256 -0.71739 0.00000\\nC 2.45913 0.01847 -0.00000\\nC 1.21357 -2.13890 0.00000\\nC -2.44994 1.41447 -0.00000\\nC -2.45913 0.01847 0.00000\\nC -1.21357 -2.13890 0.00000\\nC -0.00000 -2.82895 -0.00000\\nH 1.24752 3.20633 0.00000\\nH 3.39003 1.95723 0.00000\\nH -1.24752 3.20633 -0.00000\\nH 3.40052 -0.52278 -0.00000\\nH 2.15300 -2.68355 0.00000\\nH -3.39003 1.95723 -0.00000\\nH -3.40052 -0.52278 0.00000\\nH -2.15300 -2.68355 0.00000\\nH -0.00000 -3.91446 0.00000\\n', 'weight': 165.21108}]\n"
     ]
    }
   ],
   "source": [
    "form = Form()\n"
   ]
  },
  {
   "cell_type": "code",
   "execution_count": null,
   "id": "590d09e8",
   "metadata": {},
   "outputs": [],
   "source": []
  }
 ],
 "metadata": {
  "kernelspec": {
   "display_name": "Python 3 (ipykernel)",
   "language": "python",
   "name": "python3"
  },
  "language_info": {
   "codemirror_mode": {
    "name": "ipython",
    "version": 3
   },
   "file_extension": ".py",
   "mimetype": "text/x-python",
   "name": "python",
   "nbconvert_exporter": "python",
   "pygments_lexer": "ipython3",
   "version": "3.12.3"
  }
 },
 "nbformat": 4,
 "nbformat_minor": 5
}
