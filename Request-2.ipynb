{
 "cells": [
  {
   "cell_type": "markdown",
   "id": "cbb5c889",
   "metadata": {},
   "source": [
    "# BenzDB tools"
   ]
  },
  {
   "cell_type": "markdown",
   "id": "a8f04d68",
   "metadata": {},
   "source": [
    "## Source code"
   ]
  },
  {
   "cell_type": "markdown",
   "id": "32e20f32",
   "metadata": {},
   "source": [
    "### Module imports"
   ]
  },
  {
   "cell_type": "code",
   "execution_count": 1,
   "id": "d36ac1f9",
   "metadata": {},
   "outputs": [],
   "source": [
    "import ipywidgets as w\n",
    "import requests\n",
    "import json\n",
    "import base64 \n",
    "import io\n",
    "from PIL import Image\n",
    "import IPython as ip\n",
    "import jupyter_jsmol as Jsmol\n",
    "import pandas as pd\n",
    "import matplotlib.pyplot as plt"
   ]
  },
  {
   "cell_type": "markdown",
   "id": "6b3eef6d",
   "metadata": {},
   "source": [
    "### Definition of criterion classes"
   ]
  },
  {
   "cell_type": "markdown",
   "id": "700f00e2",
   "metadata": {},
   "source": [
    "#### Definition of the main criterion class"
   ]
  },
  {
   "cell_type": "code",
   "execution_count": 2,
   "id": "780e27d9",
   "metadata": {},
   "outputs": [],
   "source": [
    "class Criterion:\n",
    "    \"\"\" This class allows for representing criterions \"\"\"\n",
    "    \n",
    "    def __init__ (self, key: str, description: str):\n",
    "        \"\"\" initializes the criterion \"\"\"\n",
    "        self.__key = key\n",
    "        self.__description  = description     \n",
    "    \n",
    "    \n",
    "    def display (self):\n",
    "        \"\"\" displays the widget corresponding to the criterion \"\"\"\n",
    "        pass\n",
    "    \n",
    "    \n",
    "    def get_criterion (self) -> str:\n",
    "        \"\"\" returns the JSON string corresponding to the criterion, an empty string if the criterion is not set \"\"\"\n",
    "        pass\n",
    "    \n",
    "    \n",
    "    def get_description (self) -> str:\n",
    "        \"\"\" returns the description \"\"\"\n",
    "        return self.__description\n",
    "    \n",
    "    def get_key (self) -> str:\n",
    "        \"\"\" returns the key related to the criterion \"\"\"\n",
    "        return self.__key"
   ]
  },
  {
   "cell_type": "markdown",
   "id": "ac80c7fc",
   "metadata": {},
   "source": [
    "#### Definition of criterion child classes"
   ]
  },
  {
   "cell_type": "code",
   "execution_count": 3,
   "id": "c6431fa8",
   "metadata": {},
   "outputs": [],
   "source": [
    "class Int_Criterion (Criterion):\n",
    "    \"\"\" This class allows for representing criterions based on int value \"\"\"\n",
    " \n",
    "    def __init__ (self, key: str, description: str, initial_value: int):\n",
    "        \"\"\" initializes the criterion \"\"\"\n",
    "        super().__init__(key, description)\n",
    "        \n",
    "        self.__element =  w.IntText(value=1, layout={\"width\": \"auto\"})\n",
    "        self.__condition = w.Select(description=self.get_description(), options=[\"not set\",\"=\",\"<>\",\"<=\",\"<\",\">\",\">=\"], value='not set', rows=1, layout={\"width\": \"auto\"})\n",
    "                \n",
    "        box = w.HBox([self.__condition, self.__element])\n",
    "        display(box)\n",
    "        \n",
    "    \n",
    "    def get_criterion (self) -> str:\n",
    "        \"\"\" returns the JSON string corresponding to the criterion, an empty string if the criterion is not set \"\"\"\n",
    "        if self.__condition.value == \"not set\":\n",
    "            return \"\"\n",
    "        else:\n",
    "            return '\"' + self.get_key() + '\": \"' + self.__condition.value + \" \" + str(self.__element.value) + '\"'"
   ]
  },
  {
   "cell_type": "code",
   "execution_count": 4,
   "id": "a0cc879d",
   "metadata": {},
   "outputs": [],
   "source": [
    "class Float_Criterion (Criterion):\n",
    "    \"\"\" This class allows for representing criterions based on float value \"\"\"\n",
    " \n",
    "    def __init__ (self, key: str, description: str, initial_value: float):\n",
    "        \"\"\" initializes the criterion \"\"\"\n",
    "        super().__init__(key, description)\n",
    "        \n",
    "        self.__element =  w.IntText(layout={\"width\": \"auto\"})\n",
    "        self.__condition = w.Select(description=self.get_description(), options=[\"not set\",\"=\",\"<>\",\"<=\",\"<\",\">\",\">=\"], value='not set', rows=1, layout={\"width\": \"auto\"})\n",
    "                \n",
    "        box = w.HBox([self.__condition, self.__element])\n",
    "        display(box)\n",
    "        \n",
    "    \n",
    "    def get_criterion (self) -> str:\n",
    "        \"\"\" returns the JSON string corresponding to the criterion, an empty string if the criterion is not set \"\"\"\n",
    "        if self.__condition.value == \"not set\":\n",
    "            return \"\"\n",
    "        else:\n",
    "            return '\"' + self.get_key() + '\": \"' + self.__condition.value + \" \" + str(self.__element.value) + '\"'"
   ]
  },
  {
   "cell_type": "code",
   "execution_count": 5,
   "id": "c3ed9bf5",
   "metadata": {},
   "outputs": [],
   "source": [
    "class String_Criterion (Criterion):\n",
    "    \"\"\" This class allows for representing criterions based on string value \"\"\"\n",
    " \n",
    "    def __init__ (self, key: str, description: str, initial_value: int):\n",
    "        \"\"\" initializes the criterion \"\"\"\n",
    "        super().__init__(key, description)\n",
    "        \n",
    "        self.__element =  w.IntText(value=1, layout={\"width\": \"auto\"})\n",
    "        self.__condition = w.Select(description=self.get_description(), options=[\"not set\",\"=\",\"<>\"], value='not set', rows=1, layout={\"width\": \"auto\"})\n",
    "                \n",
    "        box = w.HBox([self.__condition, self.__element])\n",
    "        display(box)\n",
    "        \n",
    "    \n",
    "    def get_criterion (self) -> str:\n",
    "        \"\"\" returns the JSON string corresponding to the criterion, an empty string if the criterion is not set \"\"\"\n",
    "        if self.__condition.value == \"not set\":\n",
    "            return \"\"\n",
    "        else:\n",
    "            return '\"' + self.get_key() + '\": \"' + self.__condition.value + \" \" + str(self.__element.value) + '\"'"
   ]
  },
  {
   "cell_type": "code",
   "execution_count": 6,
   "id": "89500dc2",
   "metadata": {},
   "outputs": [],
   "source": [
    "class Query_Criterion (Criterion):\n",
    "    \"\"\" This class allows for representing the desired query \"\"\"\n",
    " \n",
    "    def __init__ (self, key: str, description: str):\n",
    "        \"\"\" initializes the criterion \"\"\"\n",
    "        super().__init__(key, description)\n",
    "        \n",
    "        self.__element =  w.Select(description=self.get_description(), options=[\"benzenoids\",\"ir\",\"ims2d1a\",\"nics\",\"clar_covers\",\"properties\",\"irregularities\"], value='benzenoids', rows=1, layout={\"width\": \"auto\"})\n",
    "                \n",
    "        box = w.HBox([self.__element])\n",
    "        display(box)\n",
    "        \n",
    "    \n",
    "    def get_criterion (self) -> str:\n",
    "        \"\"\" returns the JSON string corresponding to the criterion, an empty string if the criterion is not set \"\"\"\n",
    "        return str(self.__element.value)"
   ]
  },
  {
   "cell_type": "markdown",
   "id": "8e7ae66d",
   "metadata": {},
   "source": [
    "### Definition of the form class"
   ]
  },
  {
   "cell_type": "code",
   "execution_count": 7,
   "id": "cc0d1d05",
   "metadata": {},
   "outputs": [],
   "source": [
    "class Form:\n",
    "    \n",
    "    def __init__ (self):\n",
    "        \"\"\" initialise the form \"\"\"\n",
    "        self.__query = None         # the query\n",
    "        self.__demand_type = None   # the type of demand\n",
    "        self.__json_string = None   # the query as a JSON string\n",
    "        self.__data = None          # the data related to the query (if the query succeeds)\n",
    "        \n",
    "        self.create_form()\n",
    "        \n",
    "        \n",
    "    def create_form(self) -> None:\n",
    "        \"\"\" creates the form allowing for choosing the values of desired criteria \"\"\"\n",
    "        self.__criteria = []\n",
    "\n",
    "        # criteria about basic information\n",
    "        self.__criteria.append (Int_Criterion(key=\"nbHexagons\", description=\"# hexagons\", initial_value=1))\n",
    "        self.__criteria.append (Int_Criterion(key=\"nbCarbons\", description=\"# carbons\", initial_value=1))\n",
    "        self.__criteria.append (Int_Criterion(key=\"nbHydrogens\", description=\"# hydrogens\", initial_value=1))\n",
    "\n",
    "        # query\n",
    "        self.__criteria.append (Query_Criterion(key=\"query\", description=\"query\"))    \n",
    "\n",
    "        # validation buttons\n",
    "        count_btn = w.Button (description=\"Count\")\n",
    "        count_btn.on_click (self.perform_query)\n",
    "\n",
    "        getdata_btn = w.Button (description=\"Get Data\")\n",
    "        getdata_btn.on_click (self.perform_query)\n",
    "\n",
    "        getquery_btn = w.Button (description=\"Get JSON Query\")\n",
    "        getquery_btn.on_click (self.perform_query)\n",
    "        \n",
    "        box = w.HBox([count_btn, getdata_btn,getquery_btn])\n",
    "        display(box)\n",
    "    \n",
    "    \n",
    "    def perform_query (self, btn) -> None:\n",
    "        \"\"\" performs the query and sets the corresponding attributes \"\"\" \n",
    "        # we identify the type of demand\n",
    "        if btn.description == \"Count\":\n",
    "            self.__demand_type = \"count\"\n",
    "        elif btn.description == \"Get Data\":\n",
    "            self.__demand_type = \"data\"\n",
    "        elif btn.description == \"Get JSON Query\":\n",
    "            self.__demand_type = \"json\"\n",
    "        else:\n",
    "            self.__demand_type = \"unknown\"\n",
    "\n",
    "        # we build the JSON string and the corres\n",
    "        self.__json_string = \"{\\n\"\n",
    "        for c in self.__criteria:\n",
    "            if isinstance(c,Query_Criterion):\n",
    "                self.__query = c.get_criterion()\n",
    "            else:\n",
    "                s = c.get_criterion()\n",
    "                if len(s) > 0:\n",
    "                    if len(self.__json_string) > 3:\n",
    "                        self.__json_string += \",\\n\"\n",
    "                    self.__json_string += \"\\t\" + s\n",
    "        self.__json_string += \"\\n}\"\n",
    "\n",
    "        if self.__demand_type == \"data\":\n",
    "            response = requests.post(\"https://benzenoids.lis-lab.fr/find_\"+self.__query, json= json.loads(self.__json_string))\n",
    "        elif self.__demand_type == \"count\":\n",
    "            response = requests.post(\"https://benzenoids.lis-lab.fr/count_\"+self.__query, json= json.loads(self.__json_string))\n",
    "        \n",
    "        if self.__demand_type in [\"data\",\"count\"]:\n",
    "            if response.status_code == 200:\n",
    "                self.__data = response.json()\n",
    "\n",
    "        \n",
    "    def get_data (self):\n",
    "        \"\"\" returns the data related to the query \"\"\"\n",
    "        return self.__data\n",
    "    \n",
    "    \n",
    "    def get_query (self):\n",
    "        \"\"\" returns the desired query \"\"\"\n",
    "        return self.__query\n",
    "\n",
    "    \n",
    "    def get_json_string (self):\n",
    "        \"\"\" returns the JSON string related to the desired query \"\"\"\n",
    "        return self.__json_string\n",
    "    \n",
    "\n",
    "    def get_demand_type (self):\n",
    "        \"\"\" returns the type of the current demand \"\"\"\n",
    "        return self.__demand_type"
   ]
  },
  {
   "cell_type": "markdown",
   "id": "1f5496b1",
   "metadata": {},
   "source": [
    "### Definition of the display classes"
   ]
  },
  {
   "cell_type": "code",
   "execution_count": 8,
   "id": "b1a8a707",
   "metadata": {},
   "outputs": [],
   "source": [
    "class Display:\n",
    "    \"\"\" This class allows for displaying benzenoid information \"\"\"\n",
    "    \n",
    "    def __init__ (self, info: dict):\n",
    "        \"\"\" initializes the display tool \"\"\"\n",
    "        self.__information = info\n",
    "        self.__data = {}\n",
    "        self.add_data (\"Benzenoid id\", self.get_information(\"idBenzenoid\"))\n",
    "        self.add_data (\"InChI\", self.get_information(\"inchi\"))\n",
    "        self.add_data (\"Label\", self.get_information(\"label\"))\n",
    "        self.add_data (\"#hexagons\", self.get_information(\"nbHexagons\"))\n",
    "        self.add_data (\"#carbons\", self.get_information(\"nbCarbons\"))\n",
    "        self.add_data (\"#hydrogens\", self.get_information(\"nbHydrogens\"))\n",
    "        self.add_data (\"Weight\", self.get_information(\"weight\"))\n",
    "        self.add_data (\"Irregularity\", self.get_information(\"irregularity\"))\n",
    "    \n",
    "    \n",
    "    def add_data (self, label, value) -> None:\n",
    "        \"\"\" adds a label to display with its corresponding value \"\"\"\n",
    "        self.__data [label] = [value]\n",
    "        \n",
    "    \n",
    "    def display (self) -> None:\n",
    "        \"\"\" displays the information \"\"\"           \n",
    "        self.__df = pd.DataFrame(self.__data)\n",
    "        self.__df.index = [\"\"]\n",
    "        \n",
    "        ip.display.display(self.__df.transpose())\n",
    "        self.display_molecule()\n",
    "        \n",
    "    \n",
    "    def display_molecule (self) -> None:\n",
    "        \"\"\" displays the molecule thanks to Jsmol \"\"\"\n",
    "        view = Jsmol.JsmolView.from_str(str(self.get_information(\"nbCarbons\")+self.get_information(\"nbHydrogens\"))+\"\\nComment\\n\"+self.get_information(\"geometry\"))\n",
    "        ip.display.display(view)\n",
    "        \n",
    "    \n",
    "    def display_image (self, str64: str) -> None:\n",
    "        \"\"\" displays the base-64 image defined by str64 \"\"\"\n",
    "        img = Image.open(io.BytesIO(base64.b64decode(str64)))\n",
    "        ip.display.display(img)\n",
    "        \n",
    "    \n",
    "    def get_information (self, key) -> dict:\n",
    "        \"\"\" returns the information \"\"\"\n",
    "        return self.__information[key]"
   ]
  },
  {
   "cell_type": "code",
   "execution_count": 9,
   "id": "270488cd",
   "metadata": {},
   "outputs": [],
   "source": [
    "class Display_IR (Display):\n",
    "    \"\"\" This class allows for displaying benzenoid information from IR query \"\"\"\n",
    "\n",
    "    def __init__ (self, info: dict):\n",
    "        \"\"\" initializes the display tool \"\"\"\n",
    "        super().__init__(info)\n",
    "        self.add_data (\"Final energy\", self.get_information(\"finalEnergy\"))\n",
    "        \n",
    "    \n",
    "    def display (self) -> None:\n",
    "        \"\"\" displays the information \"\"\"\n",
    "        super().display()\n",
    "               \n",
    "        x = [float(v) for v in self.get_information(\"frequencies\").split(\" \")]\n",
    "        y = [float(v) for v in self.get_information(\"intensities\").split(\" \")]\n",
    "        \n",
    "        plt.cla()\n",
    "        plt.plot(x, y)\n",
    "        plt.xlabel('frequencies')\n",
    "        plt.ylabel('intensities')\n",
    "        plt.show()\n"
   ]
  },
  {
   "cell_type": "code",
   "execution_count": 10,
   "id": "b26ad55a",
   "metadata": {},
   "outputs": [],
   "source": [
    "class Display_IMS2D1A (Display):\n",
    "    \"\"\" This class allows for displaying benzenoid information from IMS2D1A query \"\"\"\n",
    "\n",
    "    def __init__ (self, info: dict):\n",
    "        \"\"\" initializes the display tool \"\"\"\n",
    "        super().__init__(info)\n",
    "        self.add_data (\"Type\", self.get_information(\"type\"))\n",
    "\n",
    "    def display (self) -> None:\n",
    "        \"\"\" displays the information \"\"\"\n",
    "        super().display()\n",
    "        self.display_image(self.get_information(\"picture\"))"
   ]
  },
  {
   "cell_type": "code",
   "execution_count": 11,
   "id": "7c039448",
   "metadata": {},
   "outputs": [],
   "source": [
    "class Display_NICS (Display):\n",
    "    \"\"\" This class allows for displaying benzenoid information from NICS query \"\"\"\n",
    "    def __init__ (self, info: dict):\n",
    "        \"\"\" initializes the display tool \"\"\"\n",
    "        super().__init__(info)\n",
    "        self.add_data (\"NICS values\", self.get_information(\"nics\"))"
   ]
  },
  {
   "cell_type": "code",
   "execution_count": 12,
   "id": "e936a2e8",
   "metadata": {},
   "outputs": [],
   "source": [
    "class Display_Clar_Covers (Display):\n",
    "    \"\"\" This class allows for displaying benzenoid information from Clar Cover query \"\"\"\n",
    "    \n",
    "    def display (self) -> None:\n",
    "        \"\"\" displays the information \"\"\"\n",
    "        super().display()\n",
    "        self.display_image(self.get_information(\"clarCover\"))"
   ]
  },
  {
   "cell_type": "code",
   "execution_count": 13,
   "id": "8d882d91",
   "metadata": {},
   "outputs": [],
   "source": [
    "class Display_Properties (Display):\n",
    "    \"\"\" This class allows for displaying benzenoid information from properties query \"\"\"\n",
    "\n",
    "    def __init__ (self, info: dict):\n",
    "        \"\"\" initializes the display tool \"\"\"\n",
    "        super().__init__(info)\n",
    "        yesno = [\"no\",\"yes\"]\n",
    "        self.add_data (\"Catacondensed\", yesno[self.get_information(\"catacondensed\")])\n",
    "        self.add_data (\"Coronoid\", yesno[self.get_information(\"coronoid\")])\n",
    "        self.add_data (\"Coronenoid\", yesno[self.get_information(\"coronenoid\")])\n",
    "        self.add_data (\"Symmetry\", self.get_information(\"symmetry\"))\n",
    "        self.add_data (\"#Kekulé structures\", self.get_information(\"kekule\"))\n",
    "        self.add_data (\"HOMO\", self.get_information(\"homo\"))\n",
    "        self.add_data (\"LUMO\", self.get_information(\"lumo\"))\n",
    "        self.add_data (\"Dipole moment\", self.get_information(\"moment\"))\n",
    "    \n",
    "    def display (self) -> None:\n",
    "        \"\"\" displays the information \"\"\"\n",
    "        super().display()\n"
   ]
  },
  {
   "cell_type": "code",
   "execution_count": 14,
   "id": "eb5f0030",
   "metadata": {},
   "outputs": [],
   "source": [
    "class Display_Irregularities (Display):\n",
    "    \"\"\" This class allows for displaying benzenoid information from irregularities query \"\"\"\n",
    "    \n",
    "    def __init__ (self, info: dict):\n",
    "        \"\"\" initializes the display tool \"\"\"\n",
    "        super().__init__(info)\n",
    "        self.add_data (\"# solo\", self.get_information(\"solo\"))\n",
    "        self.add_data (\"# duo\", self.get_information(\"duo\"))\n",
    "        self.add_data (\"# trio\", self.get_information(\"trio\"))\n",
    "        self.add_data (\"# quartet\", self.get_information(\"quartet\"))\n",
    "        "
   ]
  },
  {
   "cell_type": "markdown",
   "id": "d3a93ae0",
   "metadata": {},
   "source": [
    "## Filling the form"
   ]
  },
  {
   "cell_type": "code",
   "execution_count": 15,
   "id": "29c027f7",
   "metadata": {
    "scrolled": false
   },
   "outputs": [
    {
     "data": {
      "application/vnd.jupyter.widget-view+json": {
       "model_id": "5cd1aa940a1c422fbef5aa88f0240d96",
       "version_major": 2,
       "version_minor": 0
      },
      "text/plain": [
       "HBox(children=(Select(description='# hexagons', layout=Layout(width='auto'), options=('not set', '=', '<>', '<…"
      ]
     },
     "metadata": {},
     "output_type": "display_data"
    },
    {
     "data": {
      "application/vnd.jupyter.widget-view+json": {
       "model_id": "f5118b1115d24c7884b174e8aaa9fbbf",
       "version_major": 2,
       "version_minor": 0
      },
      "text/plain": [
       "HBox(children=(Select(description='# carbons', layout=Layout(width='auto'), options=('not set', '=', '<>', '<=…"
      ]
     },
     "metadata": {},
     "output_type": "display_data"
    },
    {
     "data": {
      "application/vnd.jupyter.widget-view+json": {
       "model_id": "a2ce17a3c7cd4d90977f8fcc075f0a7b",
       "version_major": 2,
       "version_minor": 0
      },
      "text/plain": [
       "HBox(children=(Select(description='# hydrogens', layout=Layout(width='auto'), options=('not set', '=', '<>', '…"
      ]
     },
     "metadata": {},
     "output_type": "display_data"
    },
    {
     "data": {
      "application/vnd.jupyter.widget-view+json": {
       "model_id": "c7aa62c237474c72b1edb137a45361ba",
       "version_major": 2,
       "version_minor": 0
      },
      "text/plain": [
       "HBox(children=(Select(description='query', layout=Layout(width='auto'), options=('benzenoids', 'ir', 'ims2d1a'…"
      ]
     },
     "metadata": {},
     "output_type": "display_data"
    },
    {
     "data": {
      "application/vnd.jupyter.widget-view+json": {
       "model_id": "f327c380452c4d6da5749a610978c9e8",
       "version_major": 2,
       "version_minor": 0
      },
      "text/plain": [
       "HBox(children=(Button(description='Count', style=ButtonStyle()), Button(description='Get Data', style=ButtonSt…"
      ]
     },
     "metadata": {},
     "output_type": "display_data"
    }
   ],
   "source": [
    "form = Form()\n"
   ]
  },
  {
   "cell_type": "markdown",
   "id": "06d9c83e",
   "metadata": {},
   "source": [
    "## Processing the result molecule per molecule"
   ]
  },
  {
   "cell_type": "code",
   "execution_count": 24,
   "id": "aaaec615",
   "metadata": {
    "scrolled": false
   },
   "outputs": [
    {
     "data": {
      "text/html": [
       "<div>\n",
       "<style scoped>\n",
       "    .dataframe tbody tr th:only-of-type {\n",
       "        vertical-align: middle;\n",
       "    }\n",
       "\n",
       "    .dataframe tbody tr th {\n",
       "        vertical-align: top;\n",
       "    }\n",
       "\n",
       "    .dataframe thead th {\n",
       "        text-align: right;\n",
       "    }\n",
       "</style>\n",
       "<table border=\"1\" class=\"dataframe\">\n",
       "  <thead>\n",
       "    <tr style=\"text-align: right;\">\n",
       "      <th></th>\n",
       "      <th></th>\n",
       "    </tr>\n",
       "  </thead>\n",
       "  <tbody>\n",
       "    <tr>\n",
       "      <th>Benzenoid id</th>\n",
       "      <td>3532</td>\n",
       "    </tr>\n",
       "    <tr>\n",
       "      <th>InChI</th>\n",
       "      <td>1S/C14H10/c1-3-7-13-11(5-1)9-10-12-6-2-4-8-14(...</td>\n",
       "    </tr>\n",
       "    <tr>\n",
       "      <th>Label</th>\n",
       "      <td>1-3-4</td>\n",
       "    </tr>\n",
       "    <tr>\n",
       "      <th>#hexagons</th>\n",
       "      <td>3</td>\n",
       "    </tr>\n",
       "    <tr>\n",
       "      <th>#carbons</th>\n",
       "      <td>14</td>\n",
       "    </tr>\n",
       "    <tr>\n",
       "      <th>#hydrogens</th>\n",
       "      <td>10</td>\n",
       "    </tr>\n",
       "    <tr>\n",
       "      <th>Weight</th>\n",
       "      <td>178.22976</td>\n",
       "    </tr>\n",
       "    <tr>\n",
       "      <th>Irregularity</th>\n",
       "      <td>0.8</td>\n",
       "    </tr>\n",
       "    <tr>\n",
       "      <th># solo</th>\n",
       "      <td>0</td>\n",
       "    </tr>\n",
       "    <tr>\n",
       "      <th># duo</th>\n",
       "      <td>2</td>\n",
       "    </tr>\n",
       "    <tr>\n",
       "      <th># trio</th>\n",
       "      <td>0</td>\n",
       "    </tr>\n",
       "    <tr>\n",
       "      <th># quartet</th>\n",
       "      <td>8</td>\n",
       "    </tr>\n",
       "  </tbody>\n",
       "</table>\n",
       "</div>"
      ],
      "text/plain": [
       "                                                               \n",
       "Benzenoid id                                               3532\n",
       "InChI         1S/C14H10/c1-3-7-13-11(5-1)9-10-12-6-2-4-8-14(...\n",
       "Label                                                     1-3-4\n",
       "#hexagons                                                     3\n",
       "#carbons                                                     14\n",
       "#hydrogens                                                   10\n",
       "Weight                                                178.22976\n",
       "Irregularity                                                0.8\n",
       "# solo                                                        0\n",
       "# duo                                                         2\n",
       "# trio                                                        0\n",
       "# quartet                                                     8"
      ]
     },
     "metadata": {},
     "output_type": "display_data"
    },
    {
     "data": {
      "application/vnd.jupyter.widget-view+json": {
       "model_id": "cc02d76b2e4a44288b17edf93ef35999",
       "version_major": 2,
       "version_minor": 0
      },
      "text/plain": [
       "JsmolView(layout=Layout(align_self='stretch', height='400px'))"
      ]
     },
     "metadata": {},
     "output_type": "display_data"
    },
    {
     "data": {
      "text/html": [
       "<div>\n",
       "<style scoped>\n",
       "    .dataframe tbody tr th:only-of-type {\n",
       "        vertical-align: middle;\n",
       "    }\n",
       "\n",
       "    .dataframe tbody tr th {\n",
       "        vertical-align: top;\n",
       "    }\n",
       "\n",
       "    .dataframe thead th {\n",
       "        text-align: right;\n",
       "    }\n",
       "</style>\n",
       "<table border=\"1\" class=\"dataframe\">\n",
       "  <thead>\n",
       "    <tr style=\"text-align: right;\">\n",
       "      <th></th>\n",
       "      <th></th>\n",
       "    </tr>\n",
       "  </thead>\n",
       "  <tbody>\n",
       "    <tr>\n",
       "      <th>Benzenoid id</th>\n",
       "      <td>4421</td>\n",
       "    </tr>\n",
       "    <tr>\n",
       "      <th>InChI</th>\n",
       "      <td>1S/C14H10/c1-2-6-12-10-14-8-4-3-7-13(14)9-11(1...</td>\n",
       "    </tr>\n",
       "    <tr>\n",
       "      <th>Label</th>\n",
       "      <td>0-4-8</td>\n",
       "    </tr>\n",
       "    <tr>\n",
       "      <th>#hexagons</th>\n",
       "      <td>3</td>\n",
       "    </tr>\n",
       "    <tr>\n",
       "      <th>#carbons</th>\n",
       "      <td>14</td>\n",
       "    </tr>\n",
       "    <tr>\n",
       "      <th>#hydrogens</th>\n",
       "      <td>10</td>\n",
       "    </tr>\n",
       "    <tr>\n",
       "      <th>Weight</th>\n",
       "      <td>178.22976</td>\n",
       "    </tr>\n",
       "    <tr>\n",
       "      <th>Irregularity</th>\n",
       "      <td>0.8</td>\n",
       "    </tr>\n",
       "    <tr>\n",
       "      <th># solo</th>\n",
       "      <td>2</td>\n",
       "    </tr>\n",
       "    <tr>\n",
       "      <th># duo</th>\n",
       "      <td>0</td>\n",
       "    </tr>\n",
       "    <tr>\n",
       "      <th># trio</th>\n",
       "      <td>0</td>\n",
       "    </tr>\n",
       "    <tr>\n",
       "      <th># quartet</th>\n",
       "      <td>8</td>\n",
       "    </tr>\n",
       "  </tbody>\n",
       "</table>\n",
       "</div>"
      ],
      "text/plain": [
       "                                                               \n",
       "Benzenoid id                                               4421\n",
       "InChI         1S/C14H10/c1-2-6-12-10-14-8-4-3-7-13(14)9-11(1...\n",
       "Label                                                     0-4-8\n",
       "#hexagons                                                     3\n",
       "#carbons                                                     14\n",
       "#hydrogens                                                   10\n",
       "Weight                                                178.22976\n",
       "Irregularity                                                0.8\n",
       "# solo                                                        2\n",
       "# duo                                                         0\n",
       "# trio                                                        0\n",
       "# quartet                                                     8"
      ]
     },
     "metadata": {},
     "output_type": "display_data"
    },
    {
     "data": {
      "application/vnd.jupyter.widget-view+json": {
       "model_id": "2c3854ba7b3d4c4a91e2e9fce6f97cad",
       "version_major": 2,
       "version_minor": 0
      },
      "text/plain": [
       "JsmolView(layout=Layout(align_self='stretch', height='400px'))"
      ]
     },
     "metadata": {},
     "output_type": "display_data"
    },
    {
     "data": {
      "text/html": [
       "<div>\n",
       "<style scoped>\n",
       "    .dataframe tbody tr th:only-of-type {\n",
       "        vertical-align: middle;\n",
       "    }\n",
       "\n",
       "    .dataframe tbody tr th {\n",
       "        vertical-align: top;\n",
       "    }\n",
       "\n",
       "    .dataframe thead th {\n",
       "        text-align: right;\n",
       "    }\n",
       "</style>\n",
       "<table border=\"1\" class=\"dataframe\">\n",
       "  <thead>\n",
       "    <tr style=\"text-align: right;\">\n",
       "      <th></th>\n",
       "      <th></th>\n",
       "    </tr>\n",
       "  </thead>\n",
       "  <tbody>\n",
       "    <tr>\n",
       "      <th>Benzenoid id</th>\n",
       "      <td>4674</td>\n",
       "    </tr>\n",
       "    <tr>\n",
       "      <th>InChI</th>\n",
       "      <td>1S/C13H22/c1-4-10-6-2-8-12-9-3-7-11(5-1)13(10)...</td>\n",
       "    </tr>\n",
       "    <tr>\n",
       "      <th>Label</th>\n",
       "      <td>0-3-4</td>\n",
       "    </tr>\n",
       "    <tr>\n",
       "      <th>#hexagons</th>\n",
       "      <td>3</td>\n",
       "    </tr>\n",
       "    <tr>\n",
       "      <th>#carbons</th>\n",
       "      <td>13</td>\n",
       "    </tr>\n",
       "    <tr>\n",
       "      <th>#hydrogens</th>\n",
       "      <td>9</td>\n",
       "    </tr>\n",
       "    <tr>\n",
       "      <th>Weight</th>\n",
       "      <td>165.21108</td>\n",
       "    </tr>\n",
       "    <tr>\n",
       "      <th>Irregularity</th>\n",
       "      <td>1.0</td>\n",
       "    </tr>\n",
       "    <tr>\n",
       "      <th># solo</th>\n",
       "      <td>0</td>\n",
       "    </tr>\n",
       "    <tr>\n",
       "      <th># duo</th>\n",
       "      <td>0</td>\n",
       "    </tr>\n",
       "    <tr>\n",
       "      <th># trio</th>\n",
       "      <td>9</td>\n",
       "    </tr>\n",
       "    <tr>\n",
       "      <th># quartet</th>\n",
       "      <td>0</td>\n",
       "    </tr>\n",
       "  </tbody>\n",
       "</table>\n",
       "</div>"
      ],
      "text/plain": [
       "                                                               \n",
       "Benzenoid id                                               4674\n",
       "InChI         1S/C13H22/c1-4-10-6-2-8-12-9-3-7-11(5-1)13(10)...\n",
       "Label                                                     0-3-4\n",
       "#hexagons                                                     3\n",
       "#carbons                                                     13\n",
       "#hydrogens                                                    9\n",
       "Weight                                                165.21108\n",
       "Irregularity                                                1.0\n",
       "# solo                                                        0\n",
       "# duo                                                         0\n",
       "# trio                                                        9\n",
       "# quartet                                                     0"
      ]
     },
     "metadata": {},
     "output_type": "display_data"
    },
    {
     "data": {
      "application/vnd.jupyter.widget-view+json": {
       "model_id": "779caec781474ab28e8bd184d8a665f0",
       "version_major": 2,
       "version_minor": 0
      },
      "text/plain": [
       "JsmolView(layout=Layout(align_self='stretch', height='400px'))"
      ]
     },
     "metadata": {},
     "output_type": "display_data"
    }
   ],
   "source": [
    "demand_type = form.get_demand_type()\n",
    "\n",
    "if demand_type == \"data\":\n",
    "    data = form.get_data()\n",
    "    query = form.get_query()\n",
    "    \n",
    "    for molecule in data:\n",
    "        if query == \"benzenoids\":\n",
    "            d = Display(molecule)\n",
    "        elif query == \"ir\":\n",
    "            d = Display_IR(molecule)\n",
    "        elif query == \"ims2d1a\":\n",
    "            d = Display_IMS2D1A(molecule)\n",
    "        elif query == \"nics\":\n",
    "            d = Display_NICS(molecule)\n",
    "        elif query == \"clar_covers\":\n",
    "            d = Display_Clar_Covers(molecule)\n",
    "        elif query == \"properties\":\n",
    "            d = Display_Properties(molecule)\n",
    "        elif query == \"irregularities\":\n",
    "            d = Display_Irregularities(molecule)\n",
    "        d.display()\n",
    "        \n",
    "elif demand_type == \"count\":\n",
    "    print (\"Number of molecules:\",form.get_data())\n",
    "    \n",
    "elif demand_type == \"json\":\n",
    "    print (\"JSON query:\")\n",
    "    print (form.get_json_string())"
   ]
  },
  {
   "cell_type": "code",
   "execution_count": 17,
   "id": "36101608",
   "metadata": {},
   "outputs": [
    {
     "data": {
      "text/html": [
       "<div>\n",
       "<style scoped>\n",
       "    .dataframe tbody tr th:only-of-type {\n",
       "        vertical-align: middle;\n",
       "    }\n",
       "\n",
       "    .dataframe tbody tr th {\n",
       "        vertical-align: top;\n",
       "    }\n",
       "\n",
       "    .dataframe thead th {\n",
       "        text-align: right;\n",
       "    }\n",
       "</style>\n",
       "<table border=\"1\" class=\"dataframe\">\n",
       "  <thead>\n",
       "    <tr style=\"text-align: right;\">\n",
       "      <th></th>\n",
       "      <th></th>\n",
       "      <th></th>\n",
       "    </tr>\n",
       "  </thead>\n",
       "  <tbody>\n",
       "    <tr>\n",
       "      <th>strings</th>\n",
       "      <td>Adam</td>\n",
       "      <td>Mike</td>\n",
       "    </tr>\n",
       "    <tr>\n",
       "      <th>ints</th>\n",
       "      <td>1</td>\n",
       "      <td>3</td>\n",
       "    </tr>\n",
       "    <tr>\n",
       "      <th>floats</th>\n",
       "      <td>1.123</td>\n",
       "      <td>1000.23</td>\n",
       "    </tr>\n",
       "  </tbody>\n",
       "</table>\n",
       "</div>"
      ],
      "text/plain": [
       "                       \n",
       "strings   Adam     Mike\n",
       "ints         1        3\n",
       "floats   1.123  1000.23"
      ]
     },
     "execution_count": 17,
     "metadata": {},
     "output_type": "execute_result"
    }
   ],
   "source": [
    "import pandas as pd\n",
    "\n",
    "\n",
    "df = pd.DataFrame({\n",
    "    \"strings\": [\"Adam\", \"Mike\"],\n",
    "    \"ints\": [1, 3],\n",
    "    \"floats\": [1.123, 1000.23]\n",
    "})\n",
    "\n",
    "df \n",
    "\n",
    "df.style.relabel_index([\"row 1\", \"row 2\"], axis=0)\n",
    "  #.format(precision=5, thousands=\",\", decimal=\".\") \\\n",
    "  #.format_index(str.upper, axis=1) \\\n",
    "df.index = [\"\", \"\"]\n",
    "\n",
    "df.transpose()"
   ]
  }
 ],
 "metadata": {
  "kernelspec": {
   "display_name": "Python 3 (ipykernel)",
   "language": "python",
   "name": "python3"
  },
  "language_info": {
   "codemirror_mode": {
    "name": "ipython",
    "version": 3
   },
   "file_extension": ".py",
   "mimetype": "text/x-python",
   "name": "python",
   "nbconvert_exporter": "python",
   "pygments_lexer": "ipython3",
   "version": "3.12.3"
  }
 },
 "nbformat": 4,
 "nbformat_minor": 5
}
