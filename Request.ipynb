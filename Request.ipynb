{
 "cells": [
  {
   "cell_type": "markdown",
   "id": "a50b371b",
   "metadata": {},
   "source": [
    "# BenzDB tools - A request example"
   ]
  },
  {
   "cell_type": "markdown",
   "id": "67f358c1",
   "metadata": {},
   "source": [
    "## Source code"
   ]
  },
  {
   "cell_type": "markdown",
   "id": "fe1b2a75",
   "metadata": {},
   "source": [
    "### Module imports"
   ]
  },
  {
   "cell_type": "code",
   "execution_count": null,
   "id": "d36ac1f9",
   "metadata": {},
   "outputs": [],
   "source": [
    "import ipywidgets as w\n",
    "import requests\n",
    "import json\n",
    "import base64 \n",
    "import io\n",
    "from PIL import Image\n",
    "import IPython as ip"
   ]
  },
  {
   "cell_type": "markdown",
   "id": "d6d66ce5",
   "metadata": {},
   "source": [
    "### Definition of criterion classes"
   ]
  },
  {
   "cell_type": "markdown",
   "id": "666f1a30",
   "metadata": {},
   "source": [
    "#### Definition of the main criterion class"
   ]
  },
  {
   "cell_type": "code",
   "execution_count": null,
   "id": "a0015185",
   "metadata": {},
   "outputs": [],
   "source": [
    "class Criterion:\n",
    "    \"\"\" This class allows for representing criterions \"\"\"\n",
    "    \n",
    "    def __init__ (self, key: str, description: str):\n",
    "        \"\"\" initializes the criterion \"\"\"\n",
    "        self.__key = key\n",
    "        self.__description  = description     \n",
    "    \n",
    "    \n",
    "    def display (self):\n",
    "        \"\"\" displays the widget corresponding to the criterion \"\"\"\n",
    "        pass\n",
    "    \n",
    "    \n",
    "    def get_criterion (self) -> str:\n",
    "        \"\"\" returns the JSON string corresponding to the criterion, an empty string if the criterion is not set \"\"\"\n",
    "        pass\n",
    "    \n",
    "    \n",
    "    def get_description (self) -> str:\n",
    "        \"\"\" returns the description \"\"\"\n",
    "        return self.__description\n",
    "    \n",
    "    def get_key (self) -> str:\n",
    "        \"\"\" returns the key related to the criterion \"\"\"\n",
    "        return self.__key"
   ]
  },
  {
   "cell_type": "markdown",
   "id": "f0c24c08",
   "metadata": {},
   "source": [
    "#### Definition of criterion child classes"
   ]
  },
  {
   "cell_type": "code",
   "execution_count": null,
   "id": "481e0faf",
   "metadata": {},
   "outputs": [],
   "source": [
    "class Int_Criterion (Criterion):\n",
    "    \"\"\" This class allows for representing criterions based on int value \"\"\"\n",
    " \n",
    "    def __init__ (self, key: str, description: str, initial_value: int):\n",
    "        \"\"\" initializes the criterion \"\"\"\n",
    "        super().__init__(key, description)\n",
    "        \n",
    "        self.__element =  w.IntText(value=1, layout={\"width\": \"auto\"})\n",
    "        self.__condition = w.Select(description=self.get_description(), options=[\"not set\",\"=\",\"<>\",\"<=\",\"<\",\">\",\">=\"], value='not set', rows=1, layout={\"width\": \"auto\"})\n",
    "                \n",
    "        box = w.HBox([self.__condition, self.__element])\n",
    "        display(box)\n",
    "        \n",
    "    \n",
    "    def get_criterion (self) -> str:\n",
    "        \"\"\" returns the JSON string corresponding to the criterion, an empty string if the criterion is not set \"\"\"\n",
    "        if self.__condition.value == \"not set\":\n",
    "            return \"\"\n",
    "        else:\n",
    "            return '\"' + self.get_key() + '\": \"' + self.__condition.value + \" \" + str(self.__element.value) + '\"'"
   ]
  },
  {
   "cell_type": "code",
   "execution_count": null,
   "id": "3ac2dec2",
   "metadata": {},
   "outputs": [],
   "source": [
    "class Float_Criterion (Criterion):\n",
    "    \"\"\" This class allows for representing criterions based on float value \"\"\"\n",
    " \n",
    "    def __init__ (self, key: str, description: str, initial_value: float):\n",
    "        \"\"\" initializes the criterion \"\"\"\n",
    "        super().__init__(key, description)\n",
    "        \n",
    "        self.__element =  w.IntText(layout={\"width\": \"auto\"})\n",
    "        self.__condition = w.Select(description=self.get_description(), options=[\"not set\",\"=\",\"<>\",\"<=\",\"<\",\">\",\">=\"], value='not set', rows=1, layout={\"width\": \"auto\"})\n",
    "                \n",
    "        box = w.HBox([self.__condition, self.__element])\n",
    "        display(box)\n",
    "        \n",
    "    \n",
    "    def get_criterion (self) -> str:\n",
    "        \"\"\" returns the JSON string corresponding to the criterion, an empty string if the criterion is not set \"\"\"\n",
    "        if self.__condition.value == \"not set\":\n",
    "            return \"\"\n",
    "        else:\n",
    "            return '\"' + self.get_key() + '\": \"' + self.__condition.value + \" \" + str(self.__element.value) + '\"'"
   ]
  },
  {
   "cell_type": "code",
   "execution_count": null,
   "id": "6e266731",
   "metadata": {},
   "outputs": [],
   "source": [
    "class String_Criterion (Criterion):\n",
    "    \"\"\" This class allows for representing criterions based on string value \"\"\"\n",
    " \n",
    "    def __init__ (self, key: str, description: str, initial_value: int):\n",
    "        \"\"\" initializes the criterion \"\"\"\n",
    "        super().__init__(key, description)\n",
    "        \n",
    "        self.__element =  w.IntText(value=1, layout={\"width\": \"auto\"})\n",
    "        self.__condition = w.Select(description=self.get_description(), options=[\"not set\",\"=\",\"<>\"], value='not set', rows=1, layout={\"width\": \"auto\"})\n",
    "                \n",
    "        box = w.HBox([self.__condition, self.__element])\n",
    "        display(box)\n",
    "        \n",
    "    \n",
    "    def get_criterion (self) -> str:\n",
    "        \"\"\" returns the JSON string corresponding to the criterion, an empty string if the criterion is not set \"\"\"\n",
    "        if self.__condition.value == \"not set\":\n",
    "            return \"\"\n",
    "        else:\n",
    "            return '\"' + self.get_key() + '\": \"' + self.__condition.value + \" \" + str(self.__element.value) + '\"'"
   ]
  },
  {
   "cell_type": "code",
   "execution_count": null,
   "id": "fcb18f55",
   "metadata": {},
   "outputs": [],
   "source": [
    "class Query_Criterion (Criterion):\n",
    "    \"\"\" This class allows for representing the desired query \"\"\"\n",
    " \n",
    "    def __init__ (self, key: str, description: str):\n",
    "        \"\"\" initializes the criterion \"\"\"\n",
    "        super().__init__(key, description)\n",
    "        \n",
    "        self.__element =  w.Select(description=self.get_description(), options=[\"benzenoids\",\"ir\",\"ims2d1a\",\"nics\",\"clar_covers\",\"properties\",\"irregularities\"], value='benzenoids', rows=1, layout={\"width\": \"auto\"})\n",
    "                \n",
    "        box = w.HBox([self.__element])\n",
    "        display(box)\n",
    "        \n",
    "    \n",
    "    def get_criterion (self) -> str:\n",
    "        \"\"\" returns the JSON string corresponding to the criterion, an empty string if the criterion is not set \"\"\"\n",
    "        return str(self.__element.value)"
   ]
  },
  {
   "cell_type": "markdown",
   "id": "6c00a4de",
   "metadata": {},
   "source": [
    "### Definition of the form class"
   ]
  },
  {
   "cell_type": "code",
   "execution_count": null,
   "id": "08eb5c22",
   "metadata": {},
   "outputs": [],
   "source": [
    "class Form:\n",
    "    \n",
    "    def __init__ (self):\n",
    "        \"\"\" initialise the form \"\"\"\n",
    "        self.__query = None         # the query\n",
    "        self.__demand_type = None   # the type of demand\n",
    "        self.__json_string = None   # the query as a JSON string\n",
    "        self.__data = None          # the data related to the query (if the query succeeds)\n",
    "        \n",
    "        self.create_form()\n",
    "        \n",
    "        \n",
    "    def create_form(self) -> None:\n",
    "        \"\"\" creates the form allowing for choosing the values of desired criteria \"\"\"\n",
    "        self.__criteria = []\n",
    "\n",
    "        # criteria about basic information\n",
    "        self.__criteria.append (Int_Criterion(key=\"nbHexagons\", description=\"# hexagons\", initial_value=1))\n",
    "        self.__criteria.append (Int_Criterion(key=\"nbCarbons\", description=\"# carbons\", initial_value=1))\n",
    "        self.__criteria.append (Int_Criterion(key=\"nbHydrogens\", description=\"# hydrogens\", initial_value=1))\n",
    "\n",
    "        # query\n",
    "        self.__criteria.append (Query_Criterion(key=\"query\", description=\"query\"))    \n",
    "\n",
    "        # validation buttons\n",
    "        count_btn = w.Button (description=\"Count\")\n",
    "        count_btn.on_click (self.perform_query)\n",
    "\n",
    "        getdata_btn = w.Button (description=\"Get Data\")\n",
    "        getdata_btn.on_click (self.perform_query)\n",
    "\n",
    "        getquery_btn = w.Button (description=\"Get JSON Query\")\n",
    "        getquery_btn.on_click (self.perform_query)\n",
    "        \n",
    "        box = w.HBox([count_btn, getdata_btn,getquery_btn])\n",
    "        display(box)\n",
    "    \n",
    "    \n",
    "    def perform_query (self, btn) -> None:\n",
    "        \"\"\" performs the query and sets the corresponding attributes \"\"\" \n",
    "        # we identify the type of demand\n",
    "        if btn.description == \"Count\":\n",
    "            self.__demand_type = \"count\"\n",
    "        elif btn.description == \"Get Data\":\n",
    "            self.__demand_type = \"data\"\n",
    "        elif btn.description == \"Get JSON Query\":\n",
    "            self.__demand_type = \"json\"\n",
    "        else:\n",
    "            self.__demand_type = \"unknown\"\n",
    "\n",
    "        # we build the JSON string and the corres\n",
    "        self.__json_string = \"{\\n\"\n",
    "        for c in self.__criteria:\n",
    "            if isinstance(c,Query_Criterion):\n",
    "                self.__query = c.get_criterion()\n",
    "            else:\n",
    "                s = c.get_criterion()\n",
    "                if len(s) > 0:\n",
    "                    if len(self.__json_string) > 3:\n",
    "                        self.__json_string += \",\\n\"\n",
    "                    self.__json_string += \"\\t\" + s\n",
    "        self.__json_string += \"\\n}\"\n",
    "\n",
    "        if self.__demand_type == \"data\":\n",
    "            response = requests.post(\"https://benzenoids.lis-lab.fr/find_\"+self.__query, json= json.loads(self.__json_string))\n",
    "        elif self.__demand_type == \"count\":\n",
    "            response = requests.post(\"https://benzenoids.lis-lab.fr/count_\"+self.__query, json= json.loads(self.__json_string))\n",
    "        \n",
    "        if self.__demand_type in [\"data\",\"count\"]:\n",
    "            if response.status_code == 200:\n",
    "                self.__data = response.json()\n",
    "\n",
    "        \n",
    "    def get_data (self):\n",
    "        \"\"\" returns the data related to the query \"\"\"\n",
    "        return self.__data\n",
    "    \n",
    "    \n",
    "    def get_query (self):\n",
    "        \"\"\" returns the desired query \"\"\"\n",
    "        return self.__query\n",
    "\n",
    "    \n",
    "    def get_json_string (self):\n",
    "        \"\"\" returns the JSON string related to the desired query \"\"\"\n",
    "        return self.__json_string\n",
    "    \n",
    "\n",
    "    def get_demand_type (self):\n",
    "        \"\"\" returns the type of the current demand \"\"\"\n",
    "        return self.__demand_type"
   ]
  },
  {
   "cell_type": "markdown",
   "id": "cc7aabe0",
   "metadata": {},
   "source": [
    "### Definition of the display classes"
   ]
  },
  {
   "cell_type": "code",
   "execution_count": null,
   "id": "0123a1d4",
   "metadata": {},
   "outputs": [],
   "source": [
    "class Display:\n",
    "    \"\"\" This class allows for displaying benzenoid information \"\"\"\n",
    "    \n",
    "    def __init__ (self, info: dict):\n",
    "        \"\"\" initializes the display tool \"\"\"\n",
    "        self.__information = info\n",
    "        \n",
    "    \n",
    "    def display (self) -> None:\n",
    "        \"\"\" displays the information \"\"\"\n",
    "        print (\"Benzenoid #\",self.get_information(\"idBenzenoid\"), sep=\"\")\n",
    "        print (\"InChI:\",self.get_information(\"inchi\"))\n",
    "        print (\"Label:\",self.get_information(\"label\"))\n",
    "        print (\"#hexagons:\",self.get_information(\"nbHexagons\"))\n",
    "        print (\"#carbons:\",self.get_information(\"nbCarbons\"))\n",
    "        print (\"#hydrogens:\",self.get_information(\"nbHydrogens\"))\n",
    "        print (\"Weight:\",self.get_information(\"weight\"))\n",
    "        print (\"Irregularity:\",self.get_information(\"irregularity\"))\n",
    "        print (\"Graph file:\",self.get_information(\"graphFile\"))\n",
    "        print (\"Geometry:\",self.get_information(\"geometry\"))        \n",
    "        \n",
    "    \n",
    "    def display_image (self, str64: str) -> None:\n",
    "        \"\"\" displays the base-64 image defined by str64 \"\"\"\n",
    "        img = Image.open(io.BytesIO(base64.b64decode(str64)))\n",
    "        ip.display.display(img)\n",
    "        \n",
    "    \n",
    "    def get_information (self, key) -> dict:\n",
    "        \"\"\" returns the information \"\"\"\n",
    "        return self.__information[key]"
   ]
  },
  {
   "cell_type": "code",
   "execution_count": null,
   "id": "7e7cba50",
   "metadata": {},
   "outputs": [],
   "source": [
    "class Display_IR (Display):\n",
    "    \"\"\" This class allows for displaying benzenoid information from IR query \"\"\"\n",
    "    \n",
    "    def display (self) -> None:\n",
    "        \"\"\" displays the information \"\"\"\n",
    "        super().display()\n",
    "        print(\"Final energy:\",self.get_information(\"finalEnergy\"))\n",
    "        print(\"Frequencies:\",self.get_information(\"frequencies\")) \n",
    "        print(\"Intensities:\",self.get_information(\"intensities\"))\n",
    "        print(\"AMES Format:\",self.get_information(\"amesFormat\"))"
   ]
  },
  {
   "cell_type": "code",
   "execution_count": null,
   "id": "ec5fc4d2",
   "metadata": {},
   "outputs": [],
   "source": [
    "class Display_IMS2D1A (Display):\n",
    "    \"\"\" This class allows for displaying benzenoid information from IMS2D1A query \"\"\"\n",
    "    \n",
    "    def display (self) -> None:\n",
    "        \"\"\" displays the information \"\"\"\n",
    "        super().display()\n",
    "        print (\"VectorX:\",self.get_information(\"vectorX\"))\n",
    "        print (\"VectorY:\",self.get_information(\"vectorY\"))\n",
    "        print (\"#PointsX:\",self.get_information(\"nbPointsX\"))\n",
    "        print (\"#PointsY:\",self.get_information(\"nbPointsY\"))\n",
    "        print (\"Origin:\",self.get_information(\"origin\"))\n",
    "        print (\"Points:\",self.get_information(\"points\"))\n",
    "        print (\"Type:\",self.get_information(\"type\"))\n",
    "        self.display_image(self.get_information(\"picture\"))"
   ]
  },
  {
   "cell_type": "code",
   "execution_count": null,
   "id": "cd57fb87",
   "metadata": {},
   "outputs": [],
   "source": [
    "class Display_NICS (Display):\n",
    "    \"\"\" This class allows for displaying benzenoid information from NICS query \"\"\"\n",
    "    \n",
    "    def display (self) -> None:\n",
    "        \"\"\" displays the information \"\"\"\n",
    "        super().display()\n",
    "        print (\"NICS values:\", self.get_information(\"nics\"))"
   ]
  },
  {
   "cell_type": "code",
   "execution_count": null,
   "id": "433bfac3",
   "metadata": {},
   "outputs": [],
   "source": [
    "class Display_Clar_Covers (Display):\n",
    "    \"\"\" This class allows for displaying benzenoid information from Clar Cover query \"\"\"\n",
    "    \n",
    "    def display (self) -> None:\n",
    "        \"\"\" displays the information \"\"\"\n",
    "        super().display()\n",
    "        self.display_image(self.get_information(\"clarCover\"))"
   ]
  },
  {
   "cell_type": "code",
   "execution_count": null,
   "id": "8a0563da",
   "metadata": {},
   "outputs": [],
   "source": [
    "class Display_Properties (Display):\n",
    "    \"\"\" This class allows for displaying benzenoid information from properties query \"\"\"\n",
    "    \n",
    "    def display (self) -> None:\n",
    "        \"\"\" displays the information \"\"\"\n",
    "        super().display()\n",
    "        yesno = [\"no\",\"yes\"]\n",
    "        print (\"Catacondensed:\",yesno[self.get_information(\"catacondensed\")])\n",
    "        print (\"Coronoid:\",yesno[self.get_information(\"coronoid\")])\n",
    "        print (\"Coronenoid:\",yesno[self.get_information(\"coronenoid\")])\n",
    "        print (\"Symmetry:\",self.get_information(\"symmetry\"))\n",
    "        print (\"#Kekulé structures:\",self.get_information(\"kekule\"))\n",
    "        print (\"HOMO:\",self.get_information(\"homo\"))\n",
    "        print (\"LUMO:\",self.get_information(\"lumo\"))\n",
    "        print (\"Dipole moment:\",self.get_information(\"moment\"))"
   ]
  },
  {
   "cell_type": "code",
   "execution_count": null,
   "id": "821777a7",
   "metadata": {},
   "outputs": [],
   "source": [
    "class Display_Irregularities (Display):\n",
    "    \"\"\" This class allows for displaying benzenoid information from properties query \"\"\"\n",
    "    \n",
    "    def display (self) -> None:\n",
    "        \"\"\" displays the information \"\"\"\n",
    "        super().display()\n",
    "        'solo', 'duo', 'trio', 'quartet'\n",
    "        print (\"# solo:\",self.get_information(\"solo\"))\n",
    "        print (\"# duo:\",self.get_information(\"duo\"))\n",
    "        print (\"# trio:\",self.get_information(\"trio\"))\n",
    "        print (\"# quartet:\",self.get_information(\"quartet\"))\n",
    "        "
   ]
  },
  {
   "cell_type": "markdown",
   "id": "1d94f255",
   "metadata": {},
   "source": [
    "## Filling the form"
   ]
  },
  {
   "cell_type": "code",
   "execution_count": null,
   "id": "29c027f7",
   "metadata": {
    "scrolled": false
   },
   "outputs": [],
   "source": [
    "form = Form()"
   ]
  },
  {
   "cell_type": "markdown",
   "id": "b846a39b",
   "metadata": {},
   "source": [
    "## Processing the result"
   ]
  },
  {
   "cell_type": "code",
   "execution_count": null,
   "id": "3146339d",
   "metadata": {},
   "outputs": [],
   "source": [
    "demand_type = form.get_demand_type()\n",
    "\n",
    "if demand_type == \"data\":\n",
    "    # we process the result molecule per molecule\n",
    "    data = form.get_data()\n",
    "    query = form.get_query()\n",
    "    \n",
    "    for molecule in data:\n",
    "        if query == \"benzenoids\":\n",
    "            Display(molecule).display()\n",
    "        elif query == \"ir\":\n",
    "            Display_IR(molecule).display()\n",
    "        elif query == \"ims2d1a\":\n",
    "            Display_IMS2D1A(molecule).display()\n",
    "        elif query == \"nics\":\n",
    "            Display_NICS(molecule).display()\n",
    "        elif query == \"clar_covers\":\n",
    "            Display_Clar_Covers(molecule).display()\n",
    "        elif query == \"properties\":\n",
    "            Display_Properties(molecule).display()\n",
    "        elif query == \"irregularities\":\n",
    "            Display_Irregularities(molecule).display()\n",
    "        print()\n",
    "        \n",
    "elif demand_type == \"count\":\n",
    "    # we print the number of desired molecules\n",
    "    print (\"Number of molecules:\",form.get_data())\n",
    "    \n",
    "elif demand_type == \"json\":\n",
    "    # we print the JSON query\n",
    "    print (\"JSON query:\")\n",
    "    print (form.get_json_string())"
   ]
  }
 ],
 "metadata": {
  "kernelspec": {
   "display_name": "Python 3 (ipykernel)",
   "language": "python",
   "name": "python3"
  },
  "language_info": {
   "codemirror_mode": {
    "name": "ipython",
    "version": 3
   },
   "file_extension": ".py",
   "mimetype": "text/x-python",
   "name": "python",
   "nbconvert_exporter": "python",
   "pygments_lexer": "ipython3",
   "version": "3.12.3"
  }
 },
 "nbformat": 4,
 "nbformat_minor": 5
}
